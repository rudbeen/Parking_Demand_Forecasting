{
 "cells": [
  {
   "cell_type": "code",
   "execution_count": 1,
   "metadata": {},
   "outputs": [],
   "source": [
    "# 라이브러리 불러오기\n",
    "import pandas as pd\n",
    "import numpy as np \n",
    "np.random.seed(0)\n",
    "import matplotlib as mpl\n",
    "from matplotlib import font_manager, rc\n",
    "import matplotlib.pyplot as plt\n",
    "import seaborn as sns\n",
    "import warnings\n",
    "from tqdm import tqdm\n",
    "warnings.filterwarnings('ignore')\n",
    "%matplotlib inline"
   ]
  },
  {
   "cell_type": "code",
   "execution_count": 2,
   "metadata": {},
   "outputs": [],
   "source": [
    "import platform\n",
    "your_os = platform.system()\n",
    "if your_os == 'Linux':\n",
    "    rc('font', family='NanumGothic')\n",
    "elif your_os == 'Windows':\n",
    "    ttf = \"c:/Windows/Fonts/malgun.ttf\"\n",
    "    font_name = font_manager.FontProperties(fname=ttf).get_name()\n",
    "    rc('font', family=font_name)\n",
    "elif your_os == 'Darwin':\n",
    "    rc('font', family='AppleGothic')\n",
    "rc('axes', unicode_minus=False)"
   ]
  },
  {
   "cell_type": "code",
   "execution_count": 3,
   "metadata": {},
   "outputs": [],
   "source": [
    "train = pd.read_csv('data/train.csv')\n",
    "test = pd.read_csv('data/test.csv')\n",
    "age_gender = pd.read_csv('data/age_gender_info.csv')\n",
    "sample = pd.read_csv('data/sample_submission.csv')"
   ]
  },
  {
   "cell_type": "code",
   "execution_count": 4,
   "metadata": {},
   "outputs": [],
   "source": [
    "test['등록차량수'] = 0"
   ]
  },
  {
   "cell_type": "markdown",
   "metadata": {},
   "source": [
    "### 결측값 처리"
   ]
  },
  {
   "cell_type": "code",
   "execution_count": 5,
   "metadata": {},
   "outputs": [
    {
     "data": {
      "text/plain": [
       "단지코드                              0\n",
       "총세대수                              0\n",
       "임대건물구분                            0\n",
       "지역                                0\n",
       "공급유형                              0\n",
       "전용면적                              0\n",
       "전용면적별세대수                          0\n",
       "공가수                               0\n",
       "자격유형                              0\n",
       "임대보증금                           569\n",
       "임대료                             569\n",
       "도보 10분거리 내 지하철역 수(환승노선 수 반영)    211\n",
       "도보 10분거리 내 버스정류장 수                4\n",
       "단지내주차면수                           0\n",
       "등록차량수                             0\n",
       "dtype: int64"
      ]
     },
     "execution_count": 5,
     "metadata": {},
     "output_type": "execute_result"
    }
   ],
   "source": [
    "train.isnull().sum()"
   ]
  },
  {
   "cell_type": "code",
   "execution_count": 6,
   "metadata": {},
   "outputs": [
    {
     "data": {
      "text/plain": [
       "단지코드                              0\n",
       "총세대수                              0\n",
       "임대건물구분                            0\n",
       "지역                                0\n",
       "공급유형                              0\n",
       "전용면적                              0\n",
       "전용면적별세대수                          0\n",
       "공가수                               0\n",
       "자격유형                              2\n",
       "임대보증금                           180\n",
       "임대료                             180\n",
       "도보 10분거리 내 지하철역 수(환승노선 수 반영)     42\n",
       "도보 10분거리 내 버스정류장 수                0\n",
       "단지내주차면수                           0\n",
       "등록차량수                             0\n",
       "dtype: int64"
      ]
     },
     "execution_count": 6,
     "metadata": {},
     "output_type": "execute_result"
    }
   ],
   "source": [
    "test.isnull().sum()"
   ]
  },
  {
   "cell_type": "markdown",
   "metadata": {},
   "source": [
    "#### 임대보증금 임대료 결측치 처리"
   ]
  },
  {
   "cell_type": "code",
   "execution_count": 7,
   "metadata": {},
   "outputs": [
    {
     "data": {
      "text/html": [
       "<div>\n",
       "<style scoped>\n",
       "    .dataframe tbody tr th:only-of-type {\n",
       "        vertical-align: middle;\n",
       "    }\n",
       "\n",
       "    .dataframe tbody tr th {\n",
       "        vertical-align: top;\n",
       "    }\n",
       "\n",
       "    .dataframe thead th {\n",
       "        text-align: right;\n",
       "    }\n",
       "</style>\n",
       "<table border=\"1\" class=\"dataframe\">\n",
       "  <thead>\n",
       "    <tr style=\"text-align: right;\">\n",
       "      <th></th>\n",
       "      <th>단지코드</th>\n",
       "      <th>총세대수</th>\n",
       "      <th>임대건물구분</th>\n",
       "      <th>지역</th>\n",
       "      <th>공급유형</th>\n",
       "      <th>전용면적</th>\n",
       "      <th>전용면적별세대수</th>\n",
       "      <th>공가수</th>\n",
       "      <th>자격유형</th>\n",
       "      <th>임대보증금</th>\n",
       "      <th>임대료</th>\n",
       "      <th>도보 10분거리 내 지하철역 수(환승노선 수 반영)</th>\n",
       "      <th>도보 10분거리 내 버스정류장 수</th>\n",
       "      <th>단지내주차면수</th>\n",
       "      <th>등록차량수</th>\n",
       "    </tr>\n",
       "  </thead>\n",
       "  <tbody>\n",
       "    <tr>\n",
       "      <th>88</th>\n",
       "      <td>C1925</td>\n",
       "      <td>601</td>\n",
       "      <td>상가</td>\n",
       "      <td>강원도</td>\n",
       "      <td>임대상가</td>\n",
       "      <td>32.10</td>\n",
       "      <td>1</td>\n",
       "      <td>9.0</td>\n",
       "      <td>D</td>\n",
       "      <td>NaN</td>\n",
       "      <td>NaN</td>\n",
       "      <td>0.0</td>\n",
       "      <td>4.0</td>\n",
       "      <td>117.0</td>\n",
       "      <td>75.0</td>\n",
       "    </tr>\n",
       "    <tr>\n",
       "      <th>89</th>\n",
       "      <td>C1925</td>\n",
       "      <td>601</td>\n",
       "      <td>상가</td>\n",
       "      <td>강원도</td>\n",
       "      <td>임대상가</td>\n",
       "      <td>32.10</td>\n",
       "      <td>1</td>\n",
       "      <td>9.0</td>\n",
       "      <td>D</td>\n",
       "      <td>NaN</td>\n",
       "      <td>NaN</td>\n",
       "      <td>0.0</td>\n",
       "      <td>4.0</td>\n",
       "      <td>117.0</td>\n",
       "      <td>75.0</td>\n",
       "    </tr>\n",
       "    <tr>\n",
       "      <th>90</th>\n",
       "      <td>C1925</td>\n",
       "      <td>601</td>\n",
       "      <td>상가</td>\n",
       "      <td>강원도</td>\n",
       "      <td>임대상가</td>\n",
       "      <td>32.10</td>\n",
       "      <td>1</td>\n",
       "      <td>9.0</td>\n",
       "      <td>D</td>\n",
       "      <td>NaN</td>\n",
       "      <td>NaN</td>\n",
       "      <td>0.0</td>\n",
       "      <td>4.0</td>\n",
       "      <td>117.0</td>\n",
       "      <td>75.0</td>\n",
       "    </tr>\n",
       "    <tr>\n",
       "      <th>91</th>\n",
       "      <td>C1925</td>\n",
       "      <td>601</td>\n",
       "      <td>상가</td>\n",
       "      <td>강원도</td>\n",
       "      <td>임대상가</td>\n",
       "      <td>72.16</td>\n",
       "      <td>1</td>\n",
       "      <td>9.0</td>\n",
       "      <td>D</td>\n",
       "      <td>NaN</td>\n",
       "      <td>NaN</td>\n",
       "      <td>0.0</td>\n",
       "      <td>4.0</td>\n",
       "      <td>117.0</td>\n",
       "      <td>75.0</td>\n",
       "    </tr>\n",
       "    <tr>\n",
       "      <th>101</th>\n",
       "      <td>C1874</td>\n",
       "      <td>619</td>\n",
       "      <td>상가</td>\n",
       "      <td>충청남도</td>\n",
       "      <td>임대상가</td>\n",
       "      <td>12.62</td>\n",
       "      <td>1</td>\n",
       "      <td>2.0</td>\n",
       "      <td>D</td>\n",
       "      <td>NaN</td>\n",
       "      <td>NaN</td>\n",
       "      <td>NaN</td>\n",
       "      <td>2.0</td>\n",
       "      <td>97.0</td>\n",
       "      <td>62.0</td>\n",
       "    </tr>\n",
       "    <tr>\n",
       "      <th>...</th>\n",
       "      <td>...</td>\n",
       "      <td>...</td>\n",
       "      <td>...</td>\n",
       "      <td>...</td>\n",
       "      <td>...</td>\n",
       "      <td>...</td>\n",
       "      <td>...</td>\n",
       "      <td>...</td>\n",
       "      <td>...</td>\n",
       "      <td>...</td>\n",
       "      <td>...</td>\n",
       "      <td>...</td>\n",
       "      <td>...</td>\n",
       "      <td>...</td>\n",
       "      <td>...</td>\n",
       "    </tr>\n",
       "    <tr>\n",
       "      <th>2333</th>\n",
       "      <td>C1350</td>\n",
       "      <td>1401</td>\n",
       "      <td>아파트</td>\n",
       "      <td>대전광역시</td>\n",
       "      <td>공공분양</td>\n",
       "      <td>74.94</td>\n",
       "      <td>22</td>\n",
       "      <td>2.0</td>\n",
       "      <td>D</td>\n",
       "      <td>NaN</td>\n",
       "      <td>NaN</td>\n",
       "      <td>NaN</td>\n",
       "      <td>6.0</td>\n",
       "      <td>1636.0</td>\n",
       "      <td>2315.0</td>\n",
       "    </tr>\n",
       "    <tr>\n",
       "      <th>2334</th>\n",
       "      <td>C1350</td>\n",
       "      <td>1401</td>\n",
       "      <td>아파트</td>\n",
       "      <td>대전광역시</td>\n",
       "      <td>공공분양</td>\n",
       "      <td>84.94</td>\n",
       "      <td>164</td>\n",
       "      <td>2.0</td>\n",
       "      <td>D</td>\n",
       "      <td>NaN</td>\n",
       "      <td>NaN</td>\n",
       "      <td>NaN</td>\n",
       "      <td>6.0</td>\n",
       "      <td>1636.0</td>\n",
       "      <td>2315.0</td>\n",
       "    </tr>\n",
       "    <tr>\n",
       "      <th>2335</th>\n",
       "      <td>C1350</td>\n",
       "      <td>1401</td>\n",
       "      <td>아파트</td>\n",
       "      <td>대전광역시</td>\n",
       "      <td>공공분양</td>\n",
       "      <td>84.94</td>\n",
       "      <td>19</td>\n",
       "      <td>2.0</td>\n",
       "      <td>D</td>\n",
       "      <td>NaN</td>\n",
       "      <td>NaN</td>\n",
       "      <td>NaN</td>\n",
       "      <td>6.0</td>\n",
       "      <td>1636.0</td>\n",
       "      <td>2315.0</td>\n",
       "    </tr>\n",
       "    <tr>\n",
       "      <th>2336</th>\n",
       "      <td>C1350</td>\n",
       "      <td>1401</td>\n",
       "      <td>아파트</td>\n",
       "      <td>대전광역시</td>\n",
       "      <td>공공분양</td>\n",
       "      <td>84.96</td>\n",
       "      <td>26</td>\n",
       "      <td>2.0</td>\n",
       "      <td>D</td>\n",
       "      <td>NaN</td>\n",
       "      <td>NaN</td>\n",
       "      <td>NaN</td>\n",
       "      <td>6.0</td>\n",
       "      <td>1636.0</td>\n",
       "      <td>2315.0</td>\n",
       "    </tr>\n",
       "    <tr>\n",
       "      <th>2337</th>\n",
       "      <td>C1350</td>\n",
       "      <td>1401</td>\n",
       "      <td>아파트</td>\n",
       "      <td>대전광역시</td>\n",
       "      <td>공공분양</td>\n",
       "      <td>84.97</td>\n",
       "      <td>26</td>\n",
       "      <td>2.0</td>\n",
       "      <td>D</td>\n",
       "      <td>NaN</td>\n",
       "      <td>NaN</td>\n",
       "      <td>NaN</td>\n",
       "      <td>6.0</td>\n",
       "      <td>1636.0</td>\n",
       "      <td>2315.0</td>\n",
       "    </tr>\n",
       "  </tbody>\n",
       "</table>\n",
       "<p>569 rows × 15 columns</p>\n",
       "</div>"
      ],
      "text/plain": [
       "       단지코드  총세대수 임대건물구분     지역  공급유형   전용면적  전용면적별세대수  공가수 자격유형 임대보증금  임대료  \\\n",
       "88    C1925   601     상가    강원도  임대상가  32.10         1  9.0    D   NaN  NaN   \n",
       "89    C1925   601     상가    강원도  임대상가  32.10         1  9.0    D   NaN  NaN   \n",
       "90    C1925   601     상가    강원도  임대상가  32.10         1  9.0    D   NaN  NaN   \n",
       "91    C1925   601     상가    강원도  임대상가  72.16         1  9.0    D   NaN  NaN   \n",
       "101   C1874   619     상가   충청남도  임대상가  12.62         1  2.0    D   NaN  NaN   \n",
       "...     ...   ...    ...    ...   ...    ...       ...  ...  ...   ...  ...   \n",
       "2333  C1350  1401    아파트  대전광역시  공공분양  74.94        22  2.0    D   NaN  NaN   \n",
       "2334  C1350  1401    아파트  대전광역시  공공분양  84.94       164  2.0    D   NaN  NaN   \n",
       "2335  C1350  1401    아파트  대전광역시  공공분양  84.94        19  2.0    D   NaN  NaN   \n",
       "2336  C1350  1401    아파트  대전광역시  공공분양  84.96        26  2.0    D   NaN  NaN   \n",
       "2337  C1350  1401    아파트  대전광역시  공공분양  84.97        26  2.0    D   NaN  NaN   \n",
       "\n",
       "      도보 10분거리 내 지하철역 수(환승노선 수 반영)  도보 10분거리 내 버스정류장 수  단지내주차면수   등록차량수  \n",
       "88                             0.0                 4.0    117.0    75.0  \n",
       "89                             0.0                 4.0    117.0    75.0  \n",
       "90                             0.0                 4.0    117.0    75.0  \n",
       "91                             0.0                 4.0    117.0    75.0  \n",
       "101                            NaN                 2.0     97.0    62.0  \n",
       "...                            ...                 ...      ...     ...  \n",
       "2333                           NaN                 6.0   1636.0  2315.0  \n",
       "2334                           NaN                 6.0   1636.0  2315.0  \n",
       "2335                           NaN                 6.0   1636.0  2315.0  \n",
       "2336                           NaN                 6.0   1636.0  2315.0  \n",
       "2337                           NaN                 6.0   1636.0  2315.0  \n",
       "\n",
       "[569 rows x 15 columns]"
      ]
     },
     "metadata": {},
     "output_type": "display_data"
    },
    {
     "data": {
      "text/html": [
       "<div>\n",
       "<style scoped>\n",
       "    .dataframe tbody tr th:only-of-type {\n",
       "        vertical-align: middle;\n",
       "    }\n",
       "\n",
       "    .dataframe tbody tr th {\n",
       "        vertical-align: top;\n",
       "    }\n",
       "\n",
       "    .dataframe thead th {\n",
       "        text-align: right;\n",
       "    }\n",
       "</style>\n",
       "<table border=\"1\" class=\"dataframe\">\n",
       "  <thead>\n",
       "    <tr style=\"text-align: right;\">\n",
       "      <th></th>\n",
       "      <th>단지코드</th>\n",
       "      <th>총세대수</th>\n",
       "      <th>임대건물구분</th>\n",
       "      <th>지역</th>\n",
       "      <th>공급유형</th>\n",
       "      <th>전용면적</th>\n",
       "      <th>전용면적별세대수</th>\n",
       "      <th>공가수</th>\n",
       "      <th>자격유형</th>\n",
       "      <th>임대보증금</th>\n",
       "      <th>임대료</th>\n",
       "      <th>도보 10분거리 내 지하철역 수(환승노선 수 반영)</th>\n",
       "      <th>도보 10분거리 내 버스정류장 수</th>\n",
       "      <th>단지내주차면수</th>\n",
       "      <th>등록차량수</th>\n",
       "    </tr>\n",
       "  </thead>\n",
       "  <tbody>\n",
       "    <tr>\n",
       "      <th>76</th>\n",
       "      <td>C1006</td>\n",
       "      <td>1505</td>\n",
       "      <td>아파트</td>\n",
       "      <td>대전광역시</td>\n",
       "      <td>영구임대</td>\n",
       "      <td>26.37</td>\n",
       "      <td>10</td>\n",
       "      <td>27.0</td>\n",
       "      <td>D</td>\n",
       "      <td>NaN</td>\n",
       "      <td>NaN</td>\n",
       "      <td>2.0</td>\n",
       "      <td>5.0</td>\n",
       "      <td>428.0</td>\n",
       "      <td>0</td>\n",
       "    </tr>\n",
       "    <tr>\n",
       "      <th>77</th>\n",
       "      <td>C1006</td>\n",
       "      <td>1505</td>\n",
       "      <td>아파트</td>\n",
       "      <td>대전광역시</td>\n",
       "      <td>영구임대</td>\n",
       "      <td>26.37</td>\n",
       "      <td>10</td>\n",
       "      <td>27.0</td>\n",
       "      <td>D</td>\n",
       "      <td>NaN</td>\n",
       "      <td>NaN</td>\n",
       "      <td>2.0</td>\n",
       "      <td>5.0</td>\n",
       "      <td>428.0</td>\n",
       "      <td>0</td>\n",
       "    </tr>\n",
       "    <tr>\n",
       "      <th>79</th>\n",
       "      <td>C1006</td>\n",
       "      <td>1505</td>\n",
       "      <td>아파트</td>\n",
       "      <td>대전광역시</td>\n",
       "      <td>영구임대</td>\n",
       "      <td>52.74</td>\n",
       "      <td>6</td>\n",
       "      <td>27.0</td>\n",
       "      <td>D</td>\n",
       "      <td>NaN</td>\n",
       "      <td>NaN</td>\n",
       "      <td>2.0</td>\n",
       "      <td>5.0</td>\n",
       "      <td>428.0</td>\n",
       "      <td>0</td>\n",
       "    </tr>\n",
       "    <tr>\n",
       "      <th>80</th>\n",
       "      <td>C1006</td>\n",
       "      <td>1505</td>\n",
       "      <td>상가</td>\n",
       "      <td>대전광역시</td>\n",
       "      <td>임대상가</td>\n",
       "      <td>38.00</td>\n",
       "      <td>1</td>\n",
       "      <td>27.0</td>\n",
       "      <td>D</td>\n",
       "      <td>NaN</td>\n",
       "      <td>NaN</td>\n",
       "      <td>2.0</td>\n",
       "      <td>5.0</td>\n",
       "      <td>428.0</td>\n",
       "      <td>0</td>\n",
       "    </tr>\n",
       "    <tr>\n",
       "      <th>81</th>\n",
       "      <td>C1006</td>\n",
       "      <td>1505</td>\n",
       "      <td>상가</td>\n",
       "      <td>대전광역시</td>\n",
       "      <td>임대상가</td>\n",
       "      <td>38.00</td>\n",
       "      <td>1</td>\n",
       "      <td>27.0</td>\n",
       "      <td>D</td>\n",
       "      <td>NaN</td>\n",
       "      <td>NaN</td>\n",
       "      <td>2.0</td>\n",
       "      <td>5.0</td>\n",
       "      <td>428.0</td>\n",
       "      <td>0</td>\n",
       "    </tr>\n",
       "    <tr>\n",
       "      <th>...</th>\n",
       "      <td>...</td>\n",
       "      <td>...</td>\n",
       "      <td>...</td>\n",
       "      <td>...</td>\n",
       "      <td>...</td>\n",
       "      <td>...</td>\n",
       "      <td>...</td>\n",
       "      <td>...</td>\n",
       "      <td>...</td>\n",
       "      <td>...</td>\n",
       "      <td>...</td>\n",
       "      <td>...</td>\n",
       "      <td>...</td>\n",
       "      <td>...</td>\n",
       "      <td>...</td>\n",
       "    </tr>\n",
       "    <tr>\n",
       "      <th>328</th>\n",
       "      <td>C1729</td>\n",
       "      <td>627</td>\n",
       "      <td>상가</td>\n",
       "      <td>강원도</td>\n",
       "      <td>임대상가</td>\n",
       "      <td>32.46</td>\n",
       "      <td>1</td>\n",
       "      <td>0.0</td>\n",
       "      <td>D</td>\n",
       "      <td>NaN</td>\n",
       "      <td>NaN</td>\n",
       "      <td>0.0</td>\n",
       "      <td>5.0</td>\n",
       "      <td>131.0</td>\n",
       "      <td>0</td>\n",
       "    </tr>\n",
       "    <tr>\n",
       "      <th>329</th>\n",
       "      <td>C1729</td>\n",
       "      <td>627</td>\n",
       "      <td>상가</td>\n",
       "      <td>강원도</td>\n",
       "      <td>임대상가</td>\n",
       "      <td>34.86</td>\n",
       "      <td>1</td>\n",
       "      <td>0.0</td>\n",
       "      <td>D</td>\n",
       "      <td>NaN</td>\n",
       "      <td>NaN</td>\n",
       "      <td>0.0</td>\n",
       "      <td>5.0</td>\n",
       "      <td>131.0</td>\n",
       "      <td>0</td>\n",
       "    </tr>\n",
       "    <tr>\n",
       "      <th>330</th>\n",
       "      <td>C1729</td>\n",
       "      <td>627</td>\n",
       "      <td>상가</td>\n",
       "      <td>강원도</td>\n",
       "      <td>임대상가</td>\n",
       "      <td>35.76</td>\n",
       "      <td>1</td>\n",
       "      <td>0.0</td>\n",
       "      <td>D</td>\n",
       "      <td>NaN</td>\n",
       "      <td>NaN</td>\n",
       "      <td>0.0</td>\n",
       "      <td>5.0</td>\n",
       "      <td>131.0</td>\n",
       "      <td>0</td>\n",
       "    </tr>\n",
       "    <tr>\n",
       "      <th>331</th>\n",
       "      <td>C1729</td>\n",
       "      <td>627</td>\n",
       "      <td>상가</td>\n",
       "      <td>강원도</td>\n",
       "      <td>임대상가</td>\n",
       "      <td>50.08</td>\n",
       "      <td>1</td>\n",
       "      <td>0.0</td>\n",
       "      <td>D</td>\n",
       "      <td>NaN</td>\n",
       "      <td>NaN</td>\n",
       "      <td>0.0</td>\n",
       "      <td>5.0</td>\n",
       "      <td>131.0</td>\n",
       "      <td>0</td>\n",
       "    </tr>\n",
       "    <tr>\n",
       "      <th>332</th>\n",
       "      <td>C1729</td>\n",
       "      <td>627</td>\n",
       "      <td>상가</td>\n",
       "      <td>강원도</td>\n",
       "      <td>임대상가</td>\n",
       "      <td>240.22</td>\n",
       "      <td>1</td>\n",
       "      <td>0.0</td>\n",
       "      <td>D</td>\n",
       "      <td>NaN</td>\n",
       "      <td>NaN</td>\n",
       "      <td>0.0</td>\n",
       "      <td>5.0</td>\n",
       "      <td>131.0</td>\n",
       "      <td>0</td>\n",
       "    </tr>\n",
       "  </tbody>\n",
       "</table>\n",
       "<p>180 rows × 15 columns</p>\n",
       "</div>"
      ],
      "text/plain": [
       "      단지코드  총세대수 임대건물구분     지역  공급유형    전용면적  전용면적별세대수   공가수 자격유형 임대보증금  임대료  \\\n",
       "76   C1006  1505    아파트  대전광역시  영구임대   26.37        10  27.0    D   NaN  NaN   \n",
       "77   C1006  1505    아파트  대전광역시  영구임대   26.37        10  27.0    D   NaN  NaN   \n",
       "79   C1006  1505    아파트  대전광역시  영구임대   52.74         6  27.0    D   NaN  NaN   \n",
       "80   C1006  1505     상가  대전광역시  임대상가   38.00         1  27.0    D   NaN  NaN   \n",
       "81   C1006  1505     상가  대전광역시  임대상가   38.00         1  27.0    D   NaN  NaN   \n",
       "..     ...   ...    ...    ...   ...     ...       ...   ...  ...   ...  ...   \n",
       "328  C1729   627     상가    강원도  임대상가   32.46         1   0.0    D   NaN  NaN   \n",
       "329  C1729   627     상가    강원도  임대상가   34.86         1   0.0    D   NaN  NaN   \n",
       "330  C1729   627     상가    강원도  임대상가   35.76         1   0.0    D   NaN  NaN   \n",
       "331  C1729   627     상가    강원도  임대상가   50.08         1   0.0    D   NaN  NaN   \n",
       "332  C1729   627     상가    강원도  임대상가  240.22         1   0.0    D   NaN  NaN   \n",
       "\n",
       "     도보 10분거리 내 지하철역 수(환승노선 수 반영)  도보 10분거리 내 버스정류장 수  단지내주차면수  등록차량수  \n",
       "76                            2.0                 5.0    428.0      0  \n",
       "77                            2.0                 5.0    428.0      0  \n",
       "79                            2.0                 5.0    428.0      0  \n",
       "80                            2.0                 5.0    428.0      0  \n",
       "81                            2.0                 5.0    428.0      0  \n",
       "..                            ...                 ...      ...    ...  \n",
       "328                           0.0                 5.0    131.0      0  \n",
       "329                           0.0                 5.0    131.0      0  \n",
       "330                           0.0                 5.0    131.0      0  \n",
       "331                           0.0                 5.0    131.0      0  \n",
       "332                           0.0                 5.0    131.0      0  \n",
       "\n",
       "[180 rows x 15 columns]"
      ]
     },
     "metadata": {},
     "output_type": "display_data"
    }
   ],
   "source": [
    "display(train.query('임대보증금.isnull() | 임대료.isnull() == True', engine='python'))\n",
    "display(test.query('임대보증금.isnull() | 임대료.isnull() == True', engine='python'))"
   ]
  },
  {
   "cell_type": "code",
   "execution_count": 8,
   "metadata": {},
   "outputs": [
    {
     "data": {
      "text/plain": [
       "임대상가    562\n",
       "공공분양      7\n",
       "Name: 공급유형, dtype: int64"
      ]
     },
     "metadata": {},
     "output_type": "display_data"
    },
    {
     "data": {
      "text/plain": [
       "임대상가    177\n",
       "영구임대      3\n",
       "Name: 공급유형, dtype: int64"
      ]
     },
     "metadata": {},
     "output_type": "display_data"
    }
   ],
   "source": [
    "display(train.query('임대보증금.isnull() | 임대료.isnull() == True', engine='python').공급유형.value_counts())\n",
    "display(test.query('임대보증금.isnull() | 임대료.isnull() == True', engine='python').공급유형.value_counts())"
   ]
  },
  {
   "cell_type": "code",
   "execution_count": 9,
   "metadata": {},
   "outputs": [
    {
     "data": {
      "text/html": [
       "<div>\n",
       "<style scoped>\n",
       "    .dataframe tbody tr th:only-of-type {\n",
       "        vertical-align: middle;\n",
       "    }\n",
       "\n",
       "    .dataframe tbody tr th {\n",
       "        vertical-align: top;\n",
       "    }\n",
       "\n",
       "    .dataframe thead th {\n",
       "        text-align: right;\n",
       "    }\n",
       "</style>\n",
       "<table border=\"1\" class=\"dataframe\">\n",
       "  <thead>\n",
       "    <tr style=\"text-align: right;\">\n",
       "      <th></th>\n",
       "      <th>단지코드</th>\n",
       "      <th>총세대수</th>\n",
       "      <th>임대건물구분</th>\n",
       "      <th>지역</th>\n",
       "      <th>공급유형</th>\n",
       "      <th>전용면적</th>\n",
       "      <th>전용면적별세대수</th>\n",
       "      <th>공가수</th>\n",
       "      <th>자격유형</th>\n",
       "      <th>임대보증금</th>\n",
       "      <th>임대료</th>\n",
       "      <th>도보 10분거리 내 지하철역 수(환승노선 수 반영)</th>\n",
       "      <th>도보 10분거리 내 버스정류장 수</th>\n",
       "      <th>단지내주차면수</th>\n",
       "      <th>등록차량수</th>\n",
       "    </tr>\n",
       "  </thead>\n",
       "  <tbody>\n",
       "    <tr>\n",
       "      <th>76</th>\n",
       "      <td>C1006</td>\n",
       "      <td>1505</td>\n",
       "      <td>아파트</td>\n",
       "      <td>대전광역시</td>\n",
       "      <td>영구임대</td>\n",
       "      <td>26.37</td>\n",
       "      <td>10</td>\n",
       "      <td>27.0</td>\n",
       "      <td>D</td>\n",
       "      <td>NaN</td>\n",
       "      <td>NaN</td>\n",
       "      <td>2.0</td>\n",
       "      <td>5.0</td>\n",
       "      <td>428.0</td>\n",
       "      <td>0</td>\n",
       "    </tr>\n",
       "    <tr>\n",
       "      <th>77</th>\n",
       "      <td>C1006</td>\n",
       "      <td>1505</td>\n",
       "      <td>아파트</td>\n",
       "      <td>대전광역시</td>\n",
       "      <td>영구임대</td>\n",
       "      <td>26.37</td>\n",
       "      <td>10</td>\n",
       "      <td>27.0</td>\n",
       "      <td>D</td>\n",
       "      <td>NaN</td>\n",
       "      <td>NaN</td>\n",
       "      <td>2.0</td>\n",
       "      <td>5.0</td>\n",
       "      <td>428.0</td>\n",
       "      <td>0</td>\n",
       "    </tr>\n",
       "    <tr>\n",
       "      <th>79</th>\n",
       "      <td>C1006</td>\n",
       "      <td>1505</td>\n",
       "      <td>아파트</td>\n",
       "      <td>대전광역시</td>\n",
       "      <td>영구임대</td>\n",
       "      <td>52.74</td>\n",
       "      <td>6</td>\n",
       "      <td>27.0</td>\n",
       "      <td>D</td>\n",
       "      <td>NaN</td>\n",
       "      <td>NaN</td>\n",
       "      <td>2.0</td>\n",
       "      <td>5.0</td>\n",
       "      <td>428.0</td>\n",
       "      <td>0</td>\n",
       "    </tr>\n",
       "    <tr>\n",
       "      <th>80</th>\n",
       "      <td>C1006</td>\n",
       "      <td>1505</td>\n",
       "      <td>상가</td>\n",
       "      <td>대전광역시</td>\n",
       "      <td>임대상가</td>\n",
       "      <td>38.00</td>\n",
       "      <td>1</td>\n",
       "      <td>27.0</td>\n",
       "      <td>D</td>\n",
       "      <td>NaN</td>\n",
       "      <td>NaN</td>\n",
       "      <td>2.0</td>\n",
       "      <td>5.0</td>\n",
       "      <td>428.0</td>\n",
       "      <td>0</td>\n",
       "    </tr>\n",
       "    <tr>\n",
       "      <th>81</th>\n",
       "      <td>C1006</td>\n",
       "      <td>1505</td>\n",
       "      <td>상가</td>\n",
       "      <td>대전광역시</td>\n",
       "      <td>임대상가</td>\n",
       "      <td>38.00</td>\n",
       "      <td>1</td>\n",
       "      <td>27.0</td>\n",
       "      <td>D</td>\n",
       "      <td>NaN</td>\n",
       "      <td>NaN</td>\n",
       "      <td>2.0</td>\n",
       "      <td>5.0</td>\n",
       "      <td>428.0</td>\n",
       "      <td>0</td>\n",
       "    </tr>\n",
       "  </tbody>\n",
       "</table>\n",
       "</div>"
      ],
      "text/plain": [
       "     단지코드  총세대수 임대건물구분     지역  공급유형   전용면적  전용면적별세대수   공가수 자격유형 임대보증금  임대료  \\\n",
       "76  C1006  1505    아파트  대전광역시  영구임대  26.37        10  27.0    D   NaN  NaN   \n",
       "77  C1006  1505    아파트  대전광역시  영구임대  26.37        10  27.0    D   NaN  NaN   \n",
       "79  C1006  1505    아파트  대전광역시  영구임대  52.74         6  27.0    D   NaN  NaN   \n",
       "80  C1006  1505     상가  대전광역시  임대상가  38.00         1  27.0    D   NaN  NaN   \n",
       "81  C1006  1505     상가  대전광역시  임대상가  38.00         1  27.0    D   NaN  NaN   \n",
       "\n",
       "    도보 10분거리 내 지하철역 수(환승노선 수 반영)  도보 10분거리 내 버스정류장 수  단지내주차면수  등록차량수  \n",
       "76                           2.0                 5.0    428.0      0  \n",
       "77                           2.0                 5.0    428.0      0  \n",
       "79                           2.0                 5.0    428.0      0  \n",
       "80                           2.0                 5.0    428.0      0  \n",
       "81                           2.0                 5.0    428.0      0  "
      ]
     },
     "execution_count": 9,
     "metadata": {},
     "output_type": "execute_result"
    }
   ],
   "source": [
    "null_임대_test = test.query('임대보증금.isnull() | 임대료.isnull() == True', engine='python')\n",
    "null_임대_test.head()"
   ]
  },
  {
   "cell_type": "code",
   "execution_count": 10,
   "metadata": {},
   "outputs": [
    {
     "data": {
      "text/plain": [
       "D    569\n",
       "Name: 자격유형, dtype: int64"
      ]
     },
     "metadata": {},
     "output_type": "display_data"
    },
    {
     "data": {
      "text/plain": [
       "D    180\n",
       "Name: 자격유형, dtype: int64"
      ]
     },
     "metadata": {},
     "output_type": "display_data"
    }
   ],
   "source": [
    "display(train.query('임대보증금.isnull() | 임대료.isnull() == True', engine='python').자격유형.value_counts())\n",
    "display(test.query('임대보증금.isnull() | 임대료.isnull() == True', engine='python').자격유형.value_counts())"
   ]
  },
  {
   "cell_type": "code",
   "execution_count": 11,
   "metadata": {},
   "outputs": [
    {
     "data": {
      "text/plain": [
       "A    1801\n",
       "D     569\n",
       "H     155\n",
       "J     114\n",
       "C      95\n",
       "I      49\n",
       "E      37\n",
       "K      33\n",
       "L      33\n",
       "N      30\n",
       "B      21\n",
       "G       9\n",
       "F       3\n",
       "M       2\n",
       "O       1\n",
       "Name: 자격유형, dtype: int64"
      ]
     },
     "metadata": {},
     "output_type": "display_data"
    },
    {
     "data": {
      "text/plain": [
       "A    572\n",
       "D    180\n",
       "H     92\n",
       "J     84\n",
       "C     34\n",
       "K     16\n",
       "L     12\n",
       "E     10\n",
       "N     10\n",
       "I      7\n",
       "M      2\n",
       "G      1\n",
       "Name: 자격유형, dtype: int64"
      ]
     },
     "metadata": {},
     "output_type": "display_data"
    }
   ],
   "source": [
    "display(train.자격유형.value_counts())\n",
    "display(test.자격유형.value_counts())"
   ]
  },
  {
   "cell_type": "markdown",
   "metadata": {},
   "source": [
    "자격 유형 D는 모두 임대료, 보증금이 null 값이다. 주로 임대상가에 해당 -> 임대보증금, 임대료 산정 불가"
   ]
  },
  {
   "cell_type": "code",
   "execution_count": 12,
   "metadata": {},
   "outputs": [],
   "source": [
    "train[['임대보증금','임대료']] = train[['임대보증금', '임대료']].fillna(\"0\").replace(\"-\", \"0\").astype(int)\n",
    "test[['임대보증금','임대료']] = test[['임대보증금', '임대료']].fillna(\"0\").replace(\"-\", \"0\").astype(int)"
   ]
  },
  {
   "cell_type": "code",
   "execution_count": 13,
   "metadata": {},
   "outputs": [
    {
     "data": {
      "text/plain": [
       "임대보증금    0\n",
       "임대료      0\n",
       "dtype: int64"
      ]
     },
     "metadata": {},
     "output_type": "display_data"
    },
    {
     "data": {
      "text/plain": [
       "임대보증금    0\n",
       "임대료      0\n",
       "dtype: int64"
      ]
     },
     "metadata": {},
     "output_type": "display_data"
    }
   ],
   "source": [
    "display(train[['임대보증금','임대료']].isnull().sum())\n",
    "display(test[['임대보증금','임대료']].isnull().sum())"
   ]
  },
  {
   "cell_type": "markdown",
   "metadata": {},
   "source": [
    "#### 자격유형 결측값 대체"
   ]
  },
  {
   "cell_type": "code",
   "execution_count": 14,
   "metadata": {
    "scrolled": true
   },
   "outputs": [
    {
     "data": {
      "text/html": [
       "<div>\n",
       "<style scoped>\n",
       "    .dataframe tbody tr th:only-of-type {\n",
       "        vertical-align: middle;\n",
       "    }\n",
       "\n",
       "    .dataframe tbody tr th {\n",
       "        vertical-align: top;\n",
       "    }\n",
       "\n",
       "    .dataframe thead th {\n",
       "        text-align: right;\n",
       "    }\n",
       "</style>\n",
       "<table border=\"1\" class=\"dataframe\">\n",
       "  <thead>\n",
       "    <tr style=\"text-align: right;\">\n",
       "      <th></th>\n",
       "      <th>단지코드</th>\n",
       "      <th>총세대수</th>\n",
       "      <th>임대건물구분</th>\n",
       "      <th>지역</th>\n",
       "      <th>공급유형</th>\n",
       "      <th>전용면적</th>\n",
       "      <th>전용면적별세대수</th>\n",
       "      <th>공가수</th>\n",
       "      <th>자격유형</th>\n",
       "      <th>임대보증금</th>\n",
       "      <th>임대료</th>\n",
       "      <th>도보 10분거리 내 지하철역 수(환승노선 수 반영)</th>\n",
       "      <th>도보 10분거리 내 버스정류장 수</th>\n",
       "      <th>단지내주차면수</th>\n",
       "      <th>등록차량수</th>\n",
       "    </tr>\n",
       "  </thead>\n",
       "  <tbody>\n",
       "  </tbody>\n",
       "</table>\n",
       "</div>"
      ],
      "text/plain": [
       "Empty DataFrame\n",
       "Columns: [단지코드, 총세대수, 임대건물구분, 지역, 공급유형, 전용면적, 전용면적별세대수, 공가수, 자격유형, 임대보증금, 임대료, 도보 10분거리 내 지하철역 수(환승노선 수 반영), 도보 10분거리 내 버스정류장 수, 단지내주차면수, 등록차량수]\n",
       "Index: []"
      ]
     },
     "metadata": {},
     "output_type": "display_data"
    },
    {
     "data": {
      "text/html": [
       "<div>\n",
       "<style scoped>\n",
       "    .dataframe tbody tr th:only-of-type {\n",
       "        vertical-align: middle;\n",
       "    }\n",
       "\n",
       "    .dataframe tbody tr th {\n",
       "        vertical-align: top;\n",
       "    }\n",
       "\n",
       "    .dataframe thead th {\n",
       "        text-align: right;\n",
       "    }\n",
       "</style>\n",
       "<table border=\"1\" class=\"dataframe\">\n",
       "  <thead>\n",
       "    <tr style=\"text-align: right;\">\n",
       "      <th></th>\n",
       "      <th>단지코드</th>\n",
       "      <th>총세대수</th>\n",
       "      <th>임대건물구분</th>\n",
       "      <th>지역</th>\n",
       "      <th>공급유형</th>\n",
       "      <th>전용면적</th>\n",
       "      <th>전용면적별세대수</th>\n",
       "      <th>공가수</th>\n",
       "      <th>자격유형</th>\n",
       "      <th>임대보증금</th>\n",
       "      <th>임대료</th>\n",
       "      <th>도보 10분거리 내 지하철역 수(환승노선 수 반영)</th>\n",
       "      <th>도보 10분거리 내 버스정류장 수</th>\n",
       "      <th>단지내주차면수</th>\n",
       "      <th>등록차량수</th>\n",
       "    </tr>\n",
       "  </thead>\n",
       "  <tbody>\n",
       "    <tr>\n",
       "      <th>196</th>\n",
       "      <td>C2411</td>\n",
       "      <td>962</td>\n",
       "      <td>아파트</td>\n",
       "      <td>경상남도</td>\n",
       "      <td>국민임대</td>\n",
       "      <td>46.90</td>\n",
       "      <td>240</td>\n",
       "      <td>25.0</td>\n",
       "      <td>NaN</td>\n",
       "      <td>71950000</td>\n",
       "      <td>37470</td>\n",
       "      <td>0.0</td>\n",
       "      <td>2.0</td>\n",
       "      <td>840.0</td>\n",
       "      <td>0</td>\n",
       "    </tr>\n",
       "    <tr>\n",
       "      <th>258</th>\n",
       "      <td>C2253</td>\n",
       "      <td>1161</td>\n",
       "      <td>아파트</td>\n",
       "      <td>강원도</td>\n",
       "      <td>영구임대</td>\n",
       "      <td>26.37</td>\n",
       "      <td>745</td>\n",
       "      <td>0.0</td>\n",
       "      <td>NaN</td>\n",
       "      <td>2249000</td>\n",
       "      <td>44770</td>\n",
       "      <td>0.0</td>\n",
       "      <td>2.0</td>\n",
       "      <td>173.0</td>\n",
       "      <td>0</td>\n",
       "    </tr>\n",
       "  </tbody>\n",
       "</table>\n",
       "</div>"
      ],
      "text/plain": [
       "      단지코드  총세대수 임대건물구분    지역  공급유형   전용면적  전용면적별세대수   공가수 자격유형     임대보증금  \\\n",
       "196  C2411   962    아파트  경상남도  국민임대  46.90       240  25.0  NaN  71950000   \n",
       "258  C2253  1161    아파트   강원도  영구임대  26.37       745   0.0  NaN   2249000   \n",
       "\n",
       "       임대료  도보 10분거리 내 지하철역 수(환승노선 수 반영)  도보 10분거리 내 버스정류장 수  단지내주차면수  등록차량수  \n",
       "196  37470                           0.0                 2.0    840.0      0  \n",
       "258  44770                           0.0                 2.0    173.0      0  "
      ]
     },
     "metadata": {},
     "output_type": "display_data"
    }
   ],
   "source": [
    "display(train.query('자격유형.isnull() == True', engine='python'))\n",
    "display(test.query('자격유형.isnull() == True', engine='python'))"
   ]
  },
  {
   "cell_type": "code",
   "execution_count": 15,
   "metadata": {},
   "outputs": [
    {
     "data": {
      "text/plain": [
       "A    1539\n",
       "H     155\n",
       "E      34\n",
       "B      21\n",
       "G       9\n",
       "Name: 자격유형, dtype: int64"
      ]
     },
     "metadata": {},
     "output_type": "display_data"
    },
    {
     "data": {
      "text/plain": [
       "C    95\n",
       "I    49\n",
       "E     3\n",
       "F     3\n",
       "A     2\n",
       "Name: 자격유형, dtype: int64"
      ]
     },
     "metadata": {},
     "output_type": "display_data"
    },
    {
     "data": {
      "text/plain": [
       "A    518\n",
       "H     92\n",
       "E     10\n",
       "G      1\n",
       "Name: 자격유형, dtype: int64"
      ]
     },
     "metadata": {},
     "output_type": "display_data"
    },
    {
     "data": {
      "text/plain": [
       "C    34\n",
       "I     7\n",
       "D     3\n",
       "Name: 자격유형, dtype: int64"
      ]
     },
     "metadata": {},
     "output_type": "display_data"
    }
   ],
   "source": [
    "display(train.query('공급유형 == \"국민임대\" & 임대건물구분 == \"아파트\"')['자격유형'].value_counts())\n",
    "display(train.query('공급유형 == \"영구임대\" & 임대건물구분 == \"아파트\"')['자격유형'].value_counts())\n",
    "\n",
    "display(test.query('공급유형 == \"국민임대\" & 임대건물구분 == \"아파트\"')['자격유형'].value_counts())\n",
    "display(test.query('공급유형 == \"영구임대\" & 임대건물구분 == \"아파트\"')['자격유형'].value_counts())"
   ]
  },
  {
   "cell_type": "markdown",
   "metadata": {},
   "source": [
    "국민임대&아파트인 경우 -> 유형'A'가 가장 많았음  \n",
    "영구임대&아파트인 경우 -> 유형'C'가 가장 많았음"
   ]
  },
  {
   "cell_type": "code",
   "execution_count": 16,
   "metadata": {},
   "outputs": [],
   "source": [
    "test['자격유형'].iloc[196] = \"A\"\n",
    "test['자격유형'].iloc[258] = \"A\""
   ]
  },
  {
   "cell_type": "code",
   "execution_count": 17,
   "metadata": {},
   "outputs": [
    {
     "data": {
      "text/plain": [
       "임대보증금    0\n",
       "임대료      0\n",
       "dtype: int64"
      ]
     },
     "metadata": {},
     "output_type": "display_data"
    },
    {
     "data": {
      "text/plain": [
       "임대보증금    0\n",
       "임대료      0\n",
       "dtype: int64"
      ]
     },
     "metadata": {},
     "output_type": "display_data"
    }
   ],
   "source": [
    "display(train[['임대보증금','임대료']].isnull().sum())\n",
    "display(test[['임대보증금','임대료']].isnull().sum())"
   ]
  },
  {
   "cell_type": "code",
   "execution_count": 18,
   "metadata": {},
   "outputs": [
    {
     "data": {
      "text/plain": [
       "A    1801\n",
       "D     569\n",
       "H     155\n",
       "J     114\n",
       "C      95\n",
       "I      49\n",
       "E      37\n",
       "K      33\n",
       "L      33\n",
       "N      30\n",
       "B      21\n",
       "G       9\n",
       "F       3\n",
       "M       2\n",
       "O       1\n",
       "Name: 자격유형, dtype: int64"
      ]
     },
     "execution_count": 18,
     "metadata": {},
     "output_type": "execute_result"
    }
   ],
   "source": [
    "train.자격유형.value_counts()"
   ]
  },
  {
   "cell_type": "markdown",
   "metadata": {},
   "source": [
    "### 지하철역 수, 버스정류장 수 결측값 대체"
   ]
  },
  {
   "cell_type": "markdown",
   "metadata": {},
   "source": [
    "편의를 위한 열이름 변경"
   ]
  },
  {
   "cell_type": "code",
   "execution_count": 19,
   "metadata": {},
   "outputs": [],
   "source": [
    "train.rename(columns={'도보 10분거리 내 지하철역 수(환승노선 수 반영)':'지하철'},inplace =  True)\n",
    "train.rename(columns={'도보 10분거리 내 버스정류장 수':'버스'}, inplace = True)\n",
    "test.rename(columns={'도보 10분거리 내 지하철역 수(환승노선 수 반영)':'지하철'},inplace =  True)\n",
    "test.rename(columns={'도보 10분거리 내 버스정류장 수':'버스'}, inplace = True)"
   ]
  },
  {
   "cell_type": "markdown",
   "metadata": {},
   "source": [
    "#### 지하철 결측값 대체"
   ]
  },
  {
   "cell_type": "code",
   "execution_count": 20,
   "metadata": {},
   "outputs": [
    {
     "data": {
      "text/html": [
       "<div>\n",
       "<style scoped>\n",
       "    .dataframe tbody tr th:only-of-type {\n",
       "        vertical-align: middle;\n",
       "    }\n",
       "\n",
       "    .dataframe tbody tr th {\n",
       "        vertical-align: top;\n",
       "    }\n",
       "\n",
       "    .dataframe thead th {\n",
       "        text-align: right;\n",
       "    }\n",
       "</style>\n",
       "<table border=\"1\" class=\"dataframe\">\n",
       "  <thead>\n",
       "    <tr style=\"text-align: right;\">\n",
       "      <th></th>\n",
       "      <th>단지코드</th>\n",
       "      <th>총세대수</th>\n",
       "      <th>임대건물구분</th>\n",
       "      <th>지역</th>\n",
       "      <th>공급유형</th>\n",
       "      <th>전용면적</th>\n",
       "      <th>전용면적별세대수</th>\n",
       "      <th>공가수</th>\n",
       "      <th>자격유형</th>\n",
       "      <th>임대보증금</th>\n",
       "      <th>임대료</th>\n",
       "      <th>지하철</th>\n",
       "      <th>버스</th>\n",
       "      <th>단지내주차면수</th>\n",
       "      <th>등록차량수</th>\n",
       "    </tr>\n",
       "  </thead>\n",
       "  <tbody>\n",
       "    <tr>\n",
       "      <th>94</th>\n",
       "      <td>C1312</td>\n",
       "      <td>518</td>\n",
       "      <td>아파트</td>\n",
       "      <td>충청남도</td>\n",
       "      <td>국민임대</td>\n",
       "      <td>39.72</td>\n",
       "      <td>60</td>\n",
       "      <td>12.0</td>\n",
       "      <td>A</td>\n",
       "      <td>17460000</td>\n",
       "      <td>122210</td>\n",
       "      <td>NaN</td>\n",
       "      <td>3.0</td>\n",
       "      <td>527.0</td>\n",
       "      <td>359.0</td>\n",
       "    </tr>\n",
       "    <tr>\n",
       "      <th>95</th>\n",
       "      <td>C1312</td>\n",
       "      <td>518</td>\n",
       "      <td>아파트</td>\n",
       "      <td>충청남도</td>\n",
       "      <td>국민임대</td>\n",
       "      <td>39.98</td>\n",
       "      <td>89</td>\n",
       "      <td>12.0</td>\n",
       "      <td>A</td>\n",
       "      <td>17460000</td>\n",
       "      <td>122210</td>\n",
       "      <td>NaN</td>\n",
       "      <td>3.0</td>\n",
       "      <td>527.0</td>\n",
       "      <td>359.0</td>\n",
       "    </tr>\n",
       "    <tr>\n",
       "      <th>96</th>\n",
       "      <td>C1312</td>\n",
       "      <td>518</td>\n",
       "      <td>아파트</td>\n",
       "      <td>충청남도</td>\n",
       "      <td>국민임대</td>\n",
       "      <td>41.55</td>\n",
       "      <td>225</td>\n",
       "      <td>12.0</td>\n",
       "      <td>A</td>\n",
       "      <td>19954000</td>\n",
       "      <td>130940</td>\n",
       "      <td>NaN</td>\n",
       "      <td>3.0</td>\n",
       "      <td>527.0</td>\n",
       "      <td>359.0</td>\n",
       "    </tr>\n",
       "    <tr>\n",
       "      <th>97</th>\n",
       "      <td>C1312</td>\n",
       "      <td>518</td>\n",
       "      <td>아파트</td>\n",
       "      <td>충청남도</td>\n",
       "      <td>국민임대</td>\n",
       "      <td>46.90</td>\n",
       "      <td>143</td>\n",
       "      <td>12.0</td>\n",
       "      <td>A</td>\n",
       "      <td>28687000</td>\n",
       "      <td>149660</td>\n",
       "      <td>NaN</td>\n",
       "      <td>3.0</td>\n",
       "      <td>527.0</td>\n",
       "      <td>359.0</td>\n",
       "    </tr>\n",
       "    <tr>\n",
       "      <th>98</th>\n",
       "      <td>C1874</td>\n",
       "      <td>619</td>\n",
       "      <td>아파트</td>\n",
       "      <td>충청남도</td>\n",
       "      <td>영구임대</td>\n",
       "      <td>26.37</td>\n",
       "      <td>294</td>\n",
       "      <td>2.0</td>\n",
       "      <td>C</td>\n",
       "      <td>3141000</td>\n",
       "      <td>69900</td>\n",
       "      <td>NaN</td>\n",
       "      <td>2.0</td>\n",
       "      <td>97.0</td>\n",
       "      <td>62.0</td>\n",
       "    </tr>\n",
       "  </tbody>\n",
       "</table>\n",
       "</div>"
      ],
      "text/plain": [
       "     단지코드  총세대수 임대건물구분    지역  공급유형   전용면적  전용면적별세대수   공가수 자격유형     임대보증금  \\\n",
       "94  C1312   518    아파트  충청남도  국민임대  39.72        60  12.0    A  17460000   \n",
       "95  C1312   518    아파트  충청남도  국민임대  39.98        89  12.0    A  17460000   \n",
       "96  C1312   518    아파트  충청남도  국민임대  41.55       225  12.0    A  19954000   \n",
       "97  C1312   518    아파트  충청남도  국민임대  46.90       143  12.0    A  28687000   \n",
       "98  C1874   619    아파트  충청남도  영구임대  26.37       294   2.0    C   3141000   \n",
       "\n",
       "       임대료  지하철   버스  단지내주차면수  등록차량수  \n",
       "94  122210  NaN  3.0    527.0  359.0  \n",
       "95  122210  NaN  3.0    527.0  359.0  \n",
       "96  130940  NaN  3.0    527.0  359.0  \n",
       "97  149660  NaN  3.0    527.0  359.0  \n",
       "98   69900  NaN  2.0     97.0   62.0  "
      ]
     },
     "metadata": {},
     "output_type": "display_data"
    },
    {
     "data": {
      "text/html": [
       "<div>\n",
       "<style scoped>\n",
       "    .dataframe tbody tr th:only-of-type {\n",
       "        vertical-align: middle;\n",
       "    }\n",
       "\n",
       "    .dataframe tbody tr th {\n",
       "        vertical-align: top;\n",
       "    }\n",
       "\n",
       "    .dataframe thead th {\n",
       "        text-align: right;\n",
       "    }\n",
       "</style>\n",
       "<table border=\"1\" class=\"dataframe\">\n",
       "  <thead>\n",
       "    <tr style=\"text-align: right;\">\n",
       "      <th></th>\n",
       "      <th>단지코드</th>\n",
       "      <th>총세대수</th>\n",
       "      <th>임대건물구분</th>\n",
       "      <th>지역</th>\n",
       "      <th>공급유형</th>\n",
       "      <th>전용면적</th>\n",
       "      <th>전용면적별세대수</th>\n",
       "      <th>공가수</th>\n",
       "      <th>자격유형</th>\n",
       "      <th>임대보증금</th>\n",
       "      <th>임대료</th>\n",
       "      <th>지하철</th>\n",
       "      <th>버스</th>\n",
       "      <th>단지내주차면수</th>\n",
       "      <th>등록차량수</th>\n",
       "    </tr>\n",
       "  </thead>\n",
       "  <tbody>\n",
       "    <tr>\n",
       "      <th>68</th>\n",
       "      <td>C1472</td>\n",
       "      <td>548</td>\n",
       "      <td>아파트</td>\n",
       "      <td>충청남도</td>\n",
       "      <td>국민임대</td>\n",
       "      <td>36.62</td>\n",
       "      <td>116</td>\n",
       "      <td>2.0</td>\n",
       "      <td>A</td>\n",
       "      <td>8738000</td>\n",
       "      <td>87380</td>\n",
       "      <td>NaN</td>\n",
       "      <td>1.0</td>\n",
       "      <td>442.0</td>\n",
       "      <td>0</td>\n",
       "    </tr>\n",
       "    <tr>\n",
       "      <th>69</th>\n",
       "      <td>C1472</td>\n",
       "      <td>548</td>\n",
       "      <td>아파트</td>\n",
       "      <td>충청남도</td>\n",
       "      <td>국민임대</td>\n",
       "      <td>39.51</td>\n",
       "      <td>56</td>\n",
       "      <td>2.0</td>\n",
       "      <td>A</td>\n",
       "      <td>9985000</td>\n",
       "      <td>99850</td>\n",
       "      <td>NaN</td>\n",
       "      <td>1.0</td>\n",
       "      <td>442.0</td>\n",
       "      <td>0</td>\n",
       "    </tr>\n",
       "    <tr>\n",
       "      <th>70</th>\n",
       "      <td>C1472</td>\n",
       "      <td>548</td>\n",
       "      <td>아파트</td>\n",
       "      <td>충청남도</td>\n",
       "      <td>국민임대</td>\n",
       "      <td>46.79</td>\n",
       "      <td>56</td>\n",
       "      <td>2.0</td>\n",
       "      <td>A</td>\n",
       "      <td>13731000</td>\n",
       "      <td>131070</td>\n",
       "      <td>NaN</td>\n",
       "      <td>1.0</td>\n",
       "      <td>442.0</td>\n",
       "      <td>0</td>\n",
       "    </tr>\n",
       "    <tr>\n",
       "      <th>71</th>\n",
       "      <td>C1472</td>\n",
       "      <td>548</td>\n",
       "      <td>아파트</td>\n",
       "      <td>충청남도</td>\n",
       "      <td>국민임대</td>\n",
       "      <td>46.90</td>\n",
       "      <td>86</td>\n",
       "      <td>2.0</td>\n",
       "      <td>A</td>\n",
       "      <td>13731000</td>\n",
       "      <td>131070</td>\n",
       "      <td>NaN</td>\n",
       "      <td>1.0</td>\n",
       "      <td>442.0</td>\n",
       "      <td>0</td>\n",
       "    </tr>\n",
       "    <tr>\n",
       "      <th>72</th>\n",
       "      <td>C1472</td>\n",
       "      <td>548</td>\n",
       "      <td>아파트</td>\n",
       "      <td>충청남도</td>\n",
       "      <td>국민임대</td>\n",
       "      <td>51.93</td>\n",
       "      <td>234</td>\n",
       "      <td>2.0</td>\n",
       "      <td>A</td>\n",
       "      <td>18726000</td>\n",
       "      <td>143550</td>\n",
       "      <td>NaN</td>\n",
       "      <td>1.0</td>\n",
       "      <td>442.0</td>\n",
       "      <td>0</td>\n",
       "    </tr>\n",
       "  </tbody>\n",
       "</table>\n",
       "</div>"
      ],
      "text/plain": [
       "     단지코드  총세대수 임대건물구분    지역  공급유형   전용면적  전용면적별세대수  공가수 자격유형     임대보증금  \\\n",
       "68  C1472   548    아파트  충청남도  국민임대  36.62       116  2.0    A   8738000   \n",
       "69  C1472   548    아파트  충청남도  국민임대  39.51        56  2.0    A   9985000   \n",
       "70  C1472   548    아파트  충청남도  국민임대  46.79        56  2.0    A  13731000   \n",
       "71  C1472   548    아파트  충청남도  국민임대  46.90        86  2.0    A  13731000   \n",
       "72  C1472   548    아파트  충청남도  국민임대  51.93       234  2.0    A  18726000   \n",
       "\n",
       "       임대료  지하철   버스  단지내주차면수  등록차량수  \n",
       "68   87380  NaN  1.0    442.0      0  \n",
       "69   99850  NaN  1.0    442.0      0  \n",
       "70  131070  NaN  1.0    442.0      0  \n",
       "71  131070  NaN  1.0    442.0      0  \n",
       "72  143550  NaN  1.0    442.0      0  "
      ]
     },
     "metadata": {},
     "output_type": "display_data"
    }
   ],
   "source": [
    "display(train.query('지하철.isnull() == True', engine='python').head())\n",
    "display(test.query('지하철.isnull() == True', engine='python').head())"
   ]
  },
  {
   "cell_type": "code",
   "execution_count": 21,
   "metadata": {
    "scrolled": true
   },
   "outputs": [
    {
     "data": {
      "text/plain": [
       "0.0    2302\n",
       "1.0     400\n",
       "2.0      33\n",
       "3.0       6\n",
       "Name: 지하철, dtype: int64"
      ]
     },
     "metadata": {},
     "output_type": "display_data"
    },
    {
     "data": {
      "text/plain": [
       "0.0    881\n",
       "1.0     64\n",
       "2.0     35\n",
       "Name: 지하철, dtype: int64"
      ]
     },
     "metadata": {},
     "output_type": "display_data"
    }
   ],
   "source": [
    "display(train.지하철.value_counts())\n",
    "display(test.지하철.value_counts())"
   ]
  },
  {
   "cell_type": "markdown",
   "metadata": {},
   "source": [
    "지하철 수 null값은 최빈값인 0으로 대체"
   ]
  },
  {
   "cell_type": "code",
   "execution_count": 22,
   "metadata": {},
   "outputs": [],
   "source": [
    "train['지하철'] = train['지하철'].fillna(0)\n",
    "test['지하철'] = test['지하철'].fillna(0)"
   ]
  },
  {
   "cell_type": "code",
   "execution_count": 23,
   "metadata": {},
   "outputs": [
    {
     "data": {
      "text/plain": [
       "지하철    0\n",
       "dtype: int64"
      ]
     },
     "metadata": {},
     "output_type": "display_data"
    },
    {
     "data": {
      "text/plain": [
       "지하철    0\n",
       "dtype: int64"
      ]
     },
     "metadata": {},
     "output_type": "display_data"
    }
   ],
   "source": [
    "display(train[['지하철']].isnull().sum())\n",
    "display(test[['지하철']].isnull().sum())"
   ]
  },
  {
   "cell_type": "markdown",
   "metadata": {},
   "source": [
    "#### 버스 결측값 대체"
   ]
  },
  {
   "cell_type": "code",
   "execution_count": 24,
   "metadata": {},
   "outputs": [
    {
     "data": {
      "text/html": [
       "<div>\n",
       "<style scoped>\n",
       "    .dataframe tbody tr th:only-of-type {\n",
       "        vertical-align: middle;\n",
       "    }\n",
       "\n",
       "    .dataframe tbody tr th {\n",
       "        vertical-align: top;\n",
       "    }\n",
       "\n",
       "    .dataframe thead th {\n",
       "        text-align: right;\n",
       "    }\n",
       "</style>\n",
       "<table border=\"1\" class=\"dataframe\">\n",
       "  <thead>\n",
       "    <tr style=\"text-align: right;\">\n",
       "      <th></th>\n",
       "      <th>단지코드</th>\n",
       "      <th>총세대수</th>\n",
       "      <th>임대건물구분</th>\n",
       "      <th>지역</th>\n",
       "      <th>공급유형</th>\n",
       "      <th>전용면적</th>\n",
       "      <th>전용면적별세대수</th>\n",
       "      <th>공가수</th>\n",
       "      <th>자격유형</th>\n",
       "      <th>임대보증금</th>\n",
       "      <th>임대료</th>\n",
       "      <th>지하철</th>\n",
       "      <th>버스</th>\n",
       "      <th>단지내주차면수</th>\n",
       "      <th>등록차량수</th>\n",
       "    </tr>\n",
       "  </thead>\n",
       "  <tbody>\n",
       "    <tr>\n",
       "      <th>2315</th>\n",
       "      <td>C1649</td>\n",
       "      <td>575</td>\n",
       "      <td>아파트</td>\n",
       "      <td>경상남도</td>\n",
       "      <td>공공임대(10년)</td>\n",
       "      <td>74.97</td>\n",
       "      <td>80</td>\n",
       "      <td>15.0</td>\n",
       "      <td>A</td>\n",
       "      <td>46000000</td>\n",
       "      <td>456000</td>\n",
       "      <td>0.0</td>\n",
       "      <td>NaN</td>\n",
       "      <td>1066.0</td>\n",
       "      <td>855.0</td>\n",
       "    </tr>\n",
       "    <tr>\n",
       "      <th>2316</th>\n",
       "      <td>C1649</td>\n",
       "      <td>575</td>\n",
       "      <td>아파트</td>\n",
       "      <td>경상남도</td>\n",
       "      <td>공공임대(10년)</td>\n",
       "      <td>84.95</td>\n",
       "      <td>124</td>\n",
       "      <td>15.0</td>\n",
       "      <td>A</td>\n",
       "      <td>57000000</td>\n",
       "      <td>462000</td>\n",
       "      <td>0.0</td>\n",
       "      <td>NaN</td>\n",
       "      <td>1066.0</td>\n",
       "      <td>855.0</td>\n",
       "    </tr>\n",
       "    <tr>\n",
       "      <th>2317</th>\n",
       "      <td>C1649</td>\n",
       "      <td>575</td>\n",
       "      <td>아파트</td>\n",
       "      <td>경상남도</td>\n",
       "      <td>공공임대(10년)</td>\n",
       "      <td>84.96</td>\n",
       "      <td>289</td>\n",
       "      <td>15.0</td>\n",
       "      <td>A</td>\n",
       "      <td>57000000</td>\n",
       "      <td>462000</td>\n",
       "      <td>0.0</td>\n",
       "      <td>NaN</td>\n",
       "      <td>1066.0</td>\n",
       "      <td>855.0</td>\n",
       "    </tr>\n",
       "    <tr>\n",
       "      <th>2318</th>\n",
       "      <td>C1649</td>\n",
       "      <td>575</td>\n",
       "      <td>아파트</td>\n",
       "      <td>경상남도</td>\n",
       "      <td>공공임대(10년)</td>\n",
       "      <td>84.98</td>\n",
       "      <td>82</td>\n",
       "      <td>15.0</td>\n",
       "      <td>A</td>\n",
       "      <td>57000000</td>\n",
       "      <td>462000</td>\n",
       "      <td>0.0</td>\n",
       "      <td>NaN</td>\n",
       "      <td>1066.0</td>\n",
       "      <td>855.0</td>\n",
       "    </tr>\n",
       "  </tbody>\n",
       "</table>\n",
       "</div>"
      ],
      "text/plain": [
       "       단지코드  총세대수 임대건물구분    지역       공급유형   전용면적  전용면적별세대수   공가수 자격유형  \\\n",
       "2315  C1649   575    아파트  경상남도  공공임대(10년)  74.97        80  15.0    A   \n",
       "2316  C1649   575    아파트  경상남도  공공임대(10년)  84.95       124  15.0    A   \n",
       "2317  C1649   575    아파트  경상남도  공공임대(10년)  84.96       289  15.0    A   \n",
       "2318  C1649   575    아파트  경상남도  공공임대(10년)  84.98        82  15.0    A   \n",
       "\n",
       "         임대보증금     임대료  지하철  버스  단지내주차면수  등록차량수  \n",
       "2315  46000000  456000  0.0 NaN   1066.0  855.0  \n",
       "2316  57000000  462000  0.0 NaN   1066.0  855.0  \n",
       "2317  57000000  462000  0.0 NaN   1066.0  855.0  \n",
       "2318  57000000  462000  0.0 NaN   1066.0  855.0  "
      ]
     },
     "metadata": {},
     "output_type": "display_data"
    },
    {
     "data": {
      "text/html": [
       "<div>\n",
       "<style scoped>\n",
       "    .dataframe tbody tr th:only-of-type {\n",
       "        vertical-align: middle;\n",
       "    }\n",
       "\n",
       "    .dataframe tbody tr th {\n",
       "        vertical-align: top;\n",
       "    }\n",
       "\n",
       "    .dataframe thead th {\n",
       "        text-align: right;\n",
       "    }\n",
       "</style>\n",
       "<table border=\"1\" class=\"dataframe\">\n",
       "  <thead>\n",
       "    <tr style=\"text-align: right;\">\n",
       "      <th></th>\n",
       "      <th>단지코드</th>\n",
       "      <th>총세대수</th>\n",
       "      <th>임대건물구분</th>\n",
       "      <th>지역</th>\n",
       "      <th>공급유형</th>\n",
       "      <th>전용면적</th>\n",
       "      <th>전용면적별세대수</th>\n",
       "      <th>공가수</th>\n",
       "      <th>자격유형</th>\n",
       "      <th>임대보증금</th>\n",
       "      <th>임대료</th>\n",
       "      <th>지하철</th>\n",
       "      <th>버스</th>\n",
       "      <th>단지내주차면수</th>\n",
       "      <th>등록차량수</th>\n",
       "    </tr>\n",
       "  </thead>\n",
       "  <tbody>\n",
       "  </tbody>\n",
       "</table>\n",
       "</div>"
      ],
      "text/plain": [
       "Empty DataFrame\n",
       "Columns: [단지코드, 총세대수, 임대건물구분, 지역, 공급유형, 전용면적, 전용면적별세대수, 공가수, 자격유형, 임대보증금, 임대료, 지하철, 버스, 단지내주차면수, 등록차량수]\n",
       "Index: []"
      ]
     },
     "metadata": {},
     "output_type": "display_data"
    }
   ],
   "source": [
    "display(train.query('버스.isnull() == True', engine='python').head())\n",
    "display(test.query('버스.isnull() == True', engine='python').head())"
   ]
  },
  {
   "cell_type": "code",
   "execution_count": 25,
   "metadata": {},
   "outputs": [],
   "source": [
    "a = train.버스.value_counts().index[0]\n",
    "train['버스'] = train['버스'].fillna(a)"
   ]
  },
  {
   "cell_type": "code",
   "execution_count": 26,
   "metadata": {},
   "outputs": [
    {
     "data": {
      "text/plain": [
       "버스    0\n",
       "dtype: int64"
      ]
     },
     "metadata": {},
     "output_type": "display_data"
    }
   ],
   "source": [
    "display(train[['버스']].isnull().sum())"
   ]
  },
  {
   "cell_type": "markdown",
   "metadata": {},
   "source": [
    "## 코드별 집계"
   ]
  },
  {
   "cell_type": "code",
   "execution_count": 27,
   "metadata": {},
   "outputs": [],
   "source": [
    "# 단지 코드별 같은 값이 나오는 열\n",
    "unique_cols = ['총세대수','지역','공가수','지하철','버스','단지내주차면수','등록차량수']\n",
    "\n",
    "train_code_agg = train.set_index('단지코드')[unique_cols].drop_duplicates().reset_index()\n",
    "test_code_agg = test.set_index('단지코드')[unique_cols].drop_duplicates().reset_index()"
   ]
  },
  {
   "cell_type": "markdown",
   "metadata": {},
   "source": [
    "### 코드별 집계 - 다른열 (임대건물구분, 공급유형, 전용면적, 전용면적별세대수, 자격유형, 임대보증금, 임대료)"
   ]
  },
  {
   "cell_type": "code",
   "execution_count": 28,
   "metadata": {},
   "outputs": [],
   "source": [
    "# count를 이용한 피벗테이블을 만들기 위해 임시로 forcount 변수를 만들어 준다\n",
    "train['forcount'] = 1\n",
    "test['forcount'] = 1"
   ]
  },
  {
   "cell_type": "markdown",
   "metadata": {},
   "source": [
    "#### 임대건물구분"
   ]
  },
  {
   "cell_type": "code",
   "execution_count": 29,
   "metadata": {},
   "outputs": [],
   "source": [
    "data_list = [train,test]"
   ]
  },
  {
   "cell_type": "code",
   "execution_count": 30,
   "metadata": {},
   "outputs": [],
   "source": [
    "def rent_pivot(data_list):\n",
    "    frame_list = []\n",
    "    for data in data_list:\n",
    "        pivot = pd.pivot_table(data.drop_duplicates(['단지코드','임대건물구분']), index = '단지코드',\n",
    "                     columns = '임대건물구분',\n",
    "                      values = 'forcount',\n",
    "                      aggfunc = 'count',\n",
    "                      fill_value = 0)\n",
    "        pivot.columns.name = None\n",
    "        pivot = pivot.rename(columns = {cols: '임대건물_'+cols for cols in pivot.columns})\n",
    "        pivot = pivot.reset_index()\n",
    "        pivot = pd.DataFrame(pivot)\n",
    "        frame_list.append(pivot)\n",
    "        \n",
    "    return frame_list\n",
    "\n",
    "(train_rent_pivot,test_rent_pivot) = rent_pivot(data_list)"
   ]
  },
  {
   "cell_type": "code",
   "execution_count": 31,
   "metadata": {},
   "outputs": [],
   "source": [
    "train_code_agg = pd.merge(train_code_agg,train_rent_pivot)\n",
    "test_code_agg = pd.merge(test_code_agg,test_rent_pivot)"
   ]
  },
  {
   "cell_type": "markdown",
   "metadata": {},
   "source": [
    "#### 자격유형"
   ]
  },
  {
   "cell_type": "markdown",
   "metadata": {},
   "source": [
    "공급유형과 자격유형이 어느정도 관련이 있을 것."
   ]
  },
  {
   "cell_type": "code",
   "execution_count": 32,
   "metadata": {},
   "outputs": [
    {
     "data": {
      "text/plain": [
       "공급유형       자격유형\n",
       "공공분양       D          7\n",
       "공공임대(10년)  A        205\n",
       "공공임대(50년)  A         31\n",
       "공공임대(5년)   A          3\n",
       "공공임대(분납)   A         12\n",
       "국민임대       A       1539\n",
       "           B         21\n",
       "           E         34\n",
       "           G          9\n",
       "           H        155\n",
       "영구임대       A          2\n",
       "           C         95\n",
       "           E          3\n",
       "           F          3\n",
       "           I         49\n",
       "임대상가       D        562\n",
       "장기전세       A          9\n",
       "행복주택       J        114\n",
       "           K         33\n",
       "           L         33\n",
       "           M          2\n",
       "           N         30\n",
       "           O          1\n",
       "Name: 자격유형, dtype: int64"
      ]
     },
     "execution_count": 32,
     "metadata": {},
     "output_type": "execute_result"
    }
   ],
   "source": [
    "train.groupby(['공급유형','자격유형'])['자격유형'].count()"
   ]
  },
  {
   "cell_type": "code",
   "execution_count": 33,
   "metadata": {},
   "outputs": [
    {
     "data": {
      "text/plain": [
       "공급유형       자격유형\n",
       "공공임대(10년)  A        35\n",
       "공공임대(50년)  A        13\n",
       "공공임대(분납)   A         6\n",
       "국민임대       A       519\n",
       "           E        10\n",
       "           G         1\n",
       "           H        92\n",
       "영구임대       A         1\n",
       "           C        34\n",
       "           D         3\n",
       "           I         7\n",
       "임대상가       D       177\n",
       "행복주택       J        84\n",
       "           K        16\n",
       "           L        12\n",
       "           M         2\n",
       "           N        10\n",
       "Name: 자격유형, dtype: int64"
      ]
     },
     "execution_count": 33,
     "metadata": {},
     "output_type": "execute_result"
    }
   ],
   "source": [
    "test.groupby(['공급유형','자격유형'])['자격유형'].count()"
   ]
  },
  {
   "cell_type": "markdown",
   "metadata": {},
   "source": [
    "자격유형은 비식별화 되어있기 때문에 정확하게는 알 수 없지만 추측은 가능. \n",
    "공급유형에 따른 자격유형 그룹화를 진행.  \n",
    "* A 유형은 여러 곳에서 분포하며, 특히 국민임대에 집중되어 있는 것을 보면 '무주택자'로 보임.  \n",
    "* 영구임대의 공급대상은 기초생활수급자, 독거노인, 국가유공자 등 사회적 취약계층으로 이루어져 있음.  \n",
    "* 행복주택의 공급대상은 대학생, 사회 초년생, 신혼부부 등으로 이루어져 있음.  \n",
    "(특히 행복주택의 경우 해당되는 자격유형이 J,K,L,M,N,O로 다른 공급유형과 겹치지 않음.)  \n",
    "A 와 D 유형의 경우 여러 공급유형에 분포되어있기에 그룹핑 X"
   ]
  },
  {
   "cell_type": "code",
   "execution_count": 34,
   "metadata": {},
   "outputs": [
    {
     "name": "stderr",
     "output_type": "stream",
     "text": [
      "100%|██████████| 2952/2952 [00:00<00:00, 6328.56it/s]\n",
      "100%|██████████| 1022/1022 [00:00<00:00, 2800.82it/s]\n"
     ]
    }
   ],
   "source": [
    "for data in data_list:\n",
    "    for i in tqdm(range(data.shape[0])):\n",
    "        if data['자격유형'].iloc[i] in ['B','E','G','H']:\n",
    "            data['자격유형'].iloc[i] = '국민임대/장기전세공급대상'\n",
    "        elif data['자격유형'].iloc[i] in ['C','F','I']:\n",
    "            data['자격유형'].iloc[i] = '영구임대공급대상'\n",
    "        elif data['자격유형'].iloc[i] in ['J','K','L','M','N','O']:\n",
    "            data['자격유형'].iloc[i] = '행복주택공급대상'\n",
    "        else:\n",
    "            pass"
   ]
  },
  {
   "cell_type": "code",
   "execution_count": 35,
   "metadata": {},
   "outputs": [],
   "source": [
    "def qualification_pivot(data_list):\n",
    "    frame_list = []\n",
    "    for data in data_list:\n",
    "        pivot = pd.pivot_table(data.drop_duplicates(['단지코드','자격유형']), index = '단지코드',\n",
    "                     columns = '자격유형',\n",
    "                      values = 'forcount',\n",
    "                      aggfunc = 'count',\n",
    "                      fill_value = 0)\n",
    "        pivot.columns.name = None\n",
    "        pivot = pivot.rename(columns = {cols: '자격유형_'+cols for cols in pivot.columns})\n",
    "        pivot = pivot.reset_index()\n",
    "        pivot = pd.DataFrame(pivot)\n",
    "        frame_list.append(pivot)\n",
    "        \n",
    "    return frame_list\n",
    "\n",
    "(train_qualification_pivot,test_qualification_pivot) = qualification_pivot(data_list)"
   ]
  },
  {
   "cell_type": "code",
   "execution_count": 36,
   "metadata": {},
   "outputs": [],
   "source": [
    "train_code_agg = pd.merge(train_code_agg,train_qualification_pivot)\n",
    "test_code_agg = pd.merge(test_code_agg,test_qualification_pivot)"
   ]
  },
  {
   "cell_type": "code",
   "execution_count": 37,
   "metadata": {},
   "outputs": [
    {
     "data": {
      "text/plain": [
       "A                1801\n",
       "D                 569\n",
       "국민임대/장기전세공급대상     222\n",
       "행복주택공급대상          213\n",
       "영구임대공급대상          147\n",
       "Name: 자격유형, dtype: int64"
      ]
     },
     "execution_count": 37,
     "metadata": {},
     "output_type": "execute_result"
    }
   ],
   "source": [
    "train.자격유형.value_counts()"
   ]
  },
  {
   "cell_type": "code",
   "execution_count": 38,
   "metadata": {},
   "outputs": [
    {
     "data": {
      "text/plain": [
       "A                574\n",
       "D                180\n",
       "행복주택공급대상         124\n",
       "국민임대/장기전세공급대상    103\n",
       "영구임대공급대상          41\n",
       "Name: 자격유형, dtype: int64"
      ]
     },
     "execution_count": 38,
     "metadata": {},
     "output_type": "execute_result"
    }
   ],
   "source": [
    "test.자격유형.value_counts()"
   ]
  },
  {
   "cell_type": "code",
   "execution_count": null,
   "metadata": {},
   "outputs": [],
   "source": []
  },
  {
   "cell_type": "code",
   "execution_count": 39,
   "metadata": {},
   "outputs": [
    {
     "data": {
      "text/html": [
       "<div>\n",
       "<style scoped>\n",
       "    .dataframe tbody tr th:only-of-type {\n",
       "        vertical-align: middle;\n",
       "    }\n",
       "\n",
       "    .dataframe tbody tr th {\n",
       "        vertical-align: top;\n",
       "    }\n",
       "\n",
       "    .dataframe thead th {\n",
       "        text-align: right;\n",
       "    }\n",
       "</style>\n",
       "<table border=\"1\" class=\"dataframe\">\n",
       "  <thead>\n",
       "    <tr style=\"text-align: right;\">\n",
       "      <th></th>\n",
       "      <th>단지코드</th>\n",
       "      <th>총세대수</th>\n",
       "      <th>지역</th>\n",
       "      <th>공가수</th>\n",
       "      <th>지하철</th>\n",
       "      <th>버스</th>\n",
       "      <th>단지내주차면수</th>\n",
       "      <th>등록차량수</th>\n",
       "      <th>임대건물_상가</th>\n",
       "      <th>임대건물_아파트</th>\n",
       "      <th>자격유형_A</th>\n",
       "      <th>자격유형_D</th>\n",
       "      <th>자격유형_국민임대/장기전세공급대상</th>\n",
       "      <th>자격유형_영구임대공급대상</th>\n",
       "      <th>자격유형_행복주택공급대상</th>\n",
       "    </tr>\n",
       "  </thead>\n",
       "  <tbody>\n",
       "    <tr>\n",
       "      <th>0</th>\n",
       "      <td>C2483</td>\n",
       "      <td>900</td>\n",
       "      <td>경상북도</td>\n",
       "      <td>38.0</td>\n",
       "      <td>0.0</td>\n",
       "      <td>3.0</td>\n",
       "      <td>1425.0</td>\n",
       "      <td>1015.0</td>\n",
       "      <td>0</td>\n",
       "      <td>1</td>\n",
       "      <td>1</td>\n",
       "      <td>0</td>\n",
       "      <td>0</td>\n",
       "      <td>0</td>\n",
       "      <td>0</td>\n",
       "    </tr>\n",
       "    <tr>\n",
       "      <th>1</th>\n",
       "      <td>C2515</td>\n",
       "      <td>545</td>\n",
       "      <td>경상남도</td>\n",
       "      <td>17.0</td>\n",
       "      <td>0.0</td>\n",
       "      <td>3.0</td>\n",
       "      <td>624.0</td>\n",
       "      <td>205.0</td>\n",
       "      <td>0</td>\n",
       "      <td>1</td>\n",
       "      <td>1</td>\n",
       "      <td>0</td>\n",
       "      <td>0</td>\n",
       "      <td>0</td>\n",
       "      <td>0</td>\n",
       "    </tr>\n",
       "    <tr>\n",
       "      <th>2</th>\n",
       "      <td>C1407</td>\n",
       "      <td>1216</td>\n",
       "      <td>대전광역시</td>\n",
       "      <td>13.0</td>\n",
       "      <td>1.0</td>\n",
       "      <td>1.0</td>\n",
       "      <td>1285.0</td>\n",
       "      <td>1064.0</td>\n",
       "      <td>0</td>\n",
       "      <td>1</td>\n",
       "      <td>1</td>\n",
       "      <td>0</td>\n",
       "      <td>0</td>\n",
       "      <td>0</td>\n",
       "      <td>0</td>\n",
       "    </tr>\n",
       "    <tr>\n",
       "      <th>3</th>\n",
       "      <td>C1945</td>\n",
       "      <td>755</td>\n",
       "      <td>경기도</td>\n",
       "      <td>6.0</td>\n",
       "      <td>1.0</td>\n",
       "      <td>3.0</td>\n",
       "      <td>734.0</td>\n",
       "      <td>730.0</td>\n",
       "      <td>0</td>\n",
       "      <td>1</td>\n",
       "      <td>0</td>\n",
       "      <td>0</td>\n",
       "      <td>1</td>\n",
       "      <td>0</td>\n",
       "      <td>0</td>\n",
       "    </tr>\n",
       "    <tr>\n",
       "      <th>4</th>\n",
       "      <td>C1470</td>\n",
       "      <td>696</td>\n",
       "      <td>전라북도</td>\n",
       "      <td>14.0</td>\n",
       "      <td>0.0</td>\n",
       "      <td>2.0</td>\n",
       "      <td>645.0</td>\n",
       "      <td>553.0</td>\n",
       "      <td>0</td>\n",
       "      <td>1</td>\n",
       "      <td>1</td>\n",
       "      <td>0</td>\n",
       "      <td>0</td>\n",
       "      <td>0</td>\n",
       "      <td>0</td>\n",
       "    </tr>\n",
       "    <tr>\n",
       "      <th>...</th>\n",
       "      <td>...</td>\n",
       "      <td>...</td>\n",
       "      <td>...</td>\n",
       "      <td>...</td>\n",
       "      <td>...</td>\n",
       "      <td>...</td>\n",
       "      <td>...</td>\n",
       "      <td>...</td>\n",
       "      <td>...</td>\n",
       "      <td>...</td>\n",
       "      <td>...</td>\n",
       "      <td>...</td>\n",
       "      <td>...</td>\n",
       "      <td>...</td>\n",
       "      <td>...</td>\n",
       "    </tr>\n",
       "    <tr>\n",
       "      <th>418</th>\n",
       "      <td>C2586</td>\n",
       "      <td>90</td>\n",
       "      <td>제주특별자치도</td>\n",
       "      <td>7.0</td>\n",
       "      <td>0.0</td>\n",
       "      <td>3.0</td>\n",
       "      <td>66.0</td>\n",
       "      <td>57.0</td>\n",
       "      <td>0</td>\n",
       "      <td>1</td>\n",
       "      <td>0</td>\n",
       "      <td>0</td>\n",
       "      <td>0</td>\n",
       "      <td>0</td>\n",
       "      <td>1</td>\n",
       "    </tr>\n",
       "    <tr>\n",
       "      <th>419</th>\n",
       "      <td>C2035</td>\n",
       "      <td>492</td>\n",
       "      <td>강원도</td>\n",
       "      <td>24.0</td>\n",
       "      <td>0.0</td>\n",
       "      <td>1.0</td>\n",
       "      <td>521.0</td>\n",
       "      <td>246.0</td>\n",
       "      <td>0</td>\n",
       "      <td>1</td>\n",
       "      <td>1</td>\n",
       "      <td>0</td>\n",
       "      <td>0</td>\n",
       "      <td>0</td>\n",
       "      <td>0</td>\n",
       "    </tr>\n",
       "    <tr>\n",
       "      <th>420</th>\n",
       "      <td>C2020</td>\n",
       "      <td>40</td>\n",
       "      <td>부산광역시</td>\n",
       "      <td>7.0</td>\n",
       "      <td>1.0</td>\n",
       "      <td>2.0</td>\n",
       "      <td>25.0</td>\n",
       "      <td>19.0</td>\n",
       "      <td>0</td>\n",
       "      <td>1</td>\n",
       "      <td>0</td>\n",
       "      <td>0</td>\n",
       "      <td>0</td>\n",
       "      <td>0</td>\n",
       "      <td>1</td>\n",
       "    </tr>\n",
       "    <tr>\n",
       "      <th>421</th>\n",
       "      <td>C2437</td>\n",
       "      <td>90</td>\n",
       "      <td>충청북도</td>\n",
       "      <td>12.0</td>\n",
       "      <td>0.0</td>\n",
       "      <td>1.0</td>\n",
       "      <td>30.0</td>\n",
       "      <td>16.0</td>\n",
       "      <td>0</td>\n",
       "      <td>1</td>\n",
       "      <td>0</td>\n",
       "      <td>0</td>\n",
       "      <td>0</td>\n",
       "      <td>1</td>\n",
       "      <td>0</td>\n",
       "    </tr>\n",
       "    <tr>\n",
       "      <th>422</th>\n",
       "      <td>C2532</td>\n",
       "      <td>239</td>\n",
       "      <td>강원도</td>\n",
       "      <td>7.0</td>\n",
       "      <td>0.0</td>\n",
       "      <td>1.0</td>\n",
       "      <td>166.0</td>\n",
       "      <td>146.0</td>\n",
       "      <td>0</td>\n",
       "      <td>1</td>\n",
       "      <td>1</td>\n",
       "      <td>0</td>\n",
       "      <td>0</td>\n",
       "      <td>0</td>\n",
       "      <td>0</td>\n",
       "    </tr>\n",
       "  </tbody>\n",
       "</table>\n",
       "<p>423 rows × 15 columns</p>\n",
       "</div>"
      ],
      "text/plain": [
       "      단지코드  총세대수       지역   공가수  지하철   버스  단지내주차면수   등록차량수  임대건물_상가  임대건물_아파트  \\\n",
       "0    C2483   900     경상북도  38.0  0.0  3.0   1425.0  1015.0        0         1   \n",
       "1    C2515   545     경상남도  17.0  0.0  3.0    624.0   205.0        0         1   \n",
       "2    C1407  1216    대전광역시  13.0  1.0  1.0   1285.0  1064.0        0         1   \n",
       "3    C1945   755      경기도   6.0  1.0  3.0    734.0   730.0        0         1   \n",
       "4    C1470   696     전라북도  14.0  0.0  2.0    645.0   553.0        0         1   \n",
       "..     ...   ...      ...   ...  ...  ...      ...     ...      ...       ...   \n",
       "418  C2586    90  제주특별자치도   7.0  0.0  3.0     66.0    57.0        0         1   \n",
       "419  C2035   492      강원도  24.0  0.0  1.0    521.0   246.0        0         1   \n",
       "420  C2020    40    부산광역시   7.0  1.0  2.0     25.0    19.0        0         1   \n",
       "421  C2437    90     충청북도  12.0  0.0  1.0     30.0    16.0        0         1   \n",
       "422  C2532   239      강원도   7.0  0.0  1.0    166.0   146.0        0         1   \n",
       "\n",
       "     자격유형_A  자격유형_D  자격유형_국민임대/장기전세공급대상  자격유형_영구임대공급대상  자격유형_행복주택공급대상  \n",
       "0         1       0                   0              0              0  \n",
       "1         1       0                   0              0              0  \n",
       "2         1       0                   0              0              0  \n",
       "3         0       0                   1              0              0  \n",
       "4         1       0                   0              0              0  \n",
       "..      ...     ...                 ...            ...            ...  \n",
       "418       0       0                   0              0              1  \n",
       "419       1       0                   0              0              0  \n",
       "420       0       0                   0              0              1  \n",
       "421       0       0                   0              1              0  \n",
       "422       1       0                   0              0              0  \n",
       "\n",
       "[423 rows x 15 columns]"
      ]
     },
     "execution_count": 39,
     "metadata": {},
     "output_type": "execute_result"
    }
   ],
   "source": [
    "train_code_agg"
   ]
  },
  {
   "cell_type": "markdown",
   "metadata": {},
   "source": [
    "## age_gender 데이터 활용"
   ]
  },
  {
   "cell_type": "code",
   "execution_count": 40,
   "metadata": {},
   "outputs": [],
   "source": [
    "age_gender['0~10대(여자)'] = age_gender['10대미만(여자)'] + age_gender['10대(여자)']\n",
    "age_gender['0~10대(남자)'] = age_gender['10대미만(남자)'] + age_gender['10대(남자)']\n",
    "age_gender['20~30대(여자)'] = age_gender['20대(여자)'] + age_gender['30대(여자)']\n",
    "age_gender['20~30대(남자)'] = age_gender['20대(남자)'] + age_gender['30대(남자)']\n",
    "age_gender['40~50대(여자)'] = age_gender['40대(여자)'] + age_gender['50대(여자)']\n",
    "age_gender['40~50대(남자)'] = age_gender['40대(남자)'] + age_gender['50대(남자)']\n",
    "age_gender['60~70대(여자)'] = age_gender['60대(여자)'] + age_gender['70대(여자)']\n",
    "age_gender['60~70대(남자)'] = age_gender['60대(남자)'] + age_gender['70대(남자)']\n",
    "age_gender['80~100대'] = age_gender['80대(여자)'] + age_gender['90대(여자)'] + age_gender['100대(여자)'] + age_gender['80대(남자)'] + age_gender['90대(남자)'] + age_gender['100대(남자)']\n",
    "AG = age_gender.iloc[:, 23:32]\n",
    "AG['지역'] = age_gender['지역']"
   ]
  },
  {
   "cell_type": "code",
   "execution_count": 41,
   "metadata": {},
   "outputs": [],
   "source": [
    "AG.iloc[:,0:9] = AG.iloc[:,0:9].rank()"
   ]
  },
  {
   "cell_type": "code",
   "execution_count": 42,
   "metadata": {},
   "outputs": [],
   "source": [
    "train_code_agg = pd.merge(train_code_agg, AG)\n",
    "test_code_agg = pd.merge(test_code_agg, AG)"
   ]
  },
  {
   "cell_type": "markdown",
   "metadata": {},
   "source": [
    "#### 세대당주차면수"
   ]
  },
  {
   "cell_type": "code",
   "execution_count": 43,
   "metadata": {},
   "outputs": [],
   "source": [
    "train_code_agg['세대당주차면수'] = train_code_agg['단지내주차면수'] / train_code_agg['총세대수']\n",
    "test_code_agg['세대당주차면수'] = test_code_agg['단지내주차면수'] / test_code_agg['총세대수']"
   ]
  },
  {
   "cell_type": "code",
   "execution_count": null,
   "metadata": {},
   "outputs": [],
   "source": []
  },
  {
   "cell_type": "markdown",
   "metadata": {},
   "source": [
    "#### 임대면적"
   ]
  },
  {
   "cell_type": "code",
   "execution_count": 44,
   "metadata": {},
   "outputs": [],
   "source": [
    "train['임대면적'] = train.전용면적 * train.전용면적별세대수\n",
    "test['임대면적'] = test.전용면적 * test.전용면적별세대수"
   ]
  },
  {
   "cell_type": "markdown",
   "metadata": {},
   "source": [
    "#### 단지코드별 총임대면적"
   ]
  },
  {
   "cell_type": "code",
   "execution_count": 45,
   "metadata": {},
   "outputs": [],
   "source": [
    "frame_list = []\n",
    "for data in data_list:\n",
    "    frame = data.groupby('단지코드')['임대면적'].agg('sum').reset_index()\n",
    "    frame.columns = ['단지코드','총임대면적']\n",
    "    frame_list.append(frame)\n",
    "\n",
    "(train_total_rent,test_total_rent) = frame_list\n",
    "\n",
    "train_code_agg = pd.merge(train_code_agg, train_total_rent)\n",
    "train_code_agg.iloc[:,-1] = train_code_agg.iloc[:,-1].fillna(0)\n",
    "\n",
    "test_code_agg = pd.merge(test_code_agg, test_total_rent)\n",
    "test_code_agg.iloc[:,-1] = test_code_agg.iloc[:,-1].fillna(0)    "
   ]
  },
  {
   "cell_type": "code",
   "execution_count": null,
   "metadata": {},
   "outputs": [],
   "source": []
  },
  {
   "cell_type": "code",
   "execution_count": 46,
   "metadata": {},
   "outputs": [],
   "source": [
    "train_code_agg['세대당평균전용면적'] = train_code_agg.총임대면적 / train_code_agg.총세대수\n",
    "test_code_agg['세대당평균전용면적'] = train_code_agg.총임대면적 / train_code_agg.총세대수"
   ]
  },
  {
   "cell_type": "markdown",
   "metadata": {},
   "source": [
    "#### 단지코드별 임대료, 임대보증금 평균"
   ]
  },
  {
   "cell_type": "code",
   "execution_count": 47,
   "metadata": {},
   "outputs": [],
   "source": [
    "def 임대료평균(a):\n",
    "    임평 = a.groupby('단지코드')['임대료'].agg('mean').reset_index()\n",
    "    임평.columns = ['단지코드','임대료평균']\n",
    "    return 임평\n",
    "def 임대보증금평균(a):\n",
    "    임보평 = a.groupby('단지코드')['임대보증금'].agg('mean').reset_index()\n",
    "    임보평.columns = ['단지코드','임대보증금평균']\n",
    "    return 임보평\n",
    "\n",
    "train_code_agg = pd.merge(train_code_agg, 임대료평균(train), on = '단지코드')\n",
    "test_code_agg = pd.merge(test_code_agg, 임대료평균(test), on = '단지코드')\n",
    "\n",
    "train_code_agg = pd.merge(train_code_agg, 임대보증금평균(train), on = '단지코드')\n",
    "test_code_agg = pd.merge(test_code_agg, 임대보증금평균(test), on = '단지코드')"
   ]
  },
  {
   "cell_type": "markdown",
   "metadata": {},
   "source": [
    "#### 공가수 비율 "
   ]
  },
  {
   "cell_type": "code",
   "execution_count": 48,
   "metadata": {},
   "outputs": [],
   "source": [
    "train_code_agg['공가수비율'] = train_code_agg.공가수 / train_code_agg.총세대수\n",
    "test_code_agg['공가수비율'] = test_code_agg.공가수 / test_code_agg.총세대수"
   ]
  },
  {
   "cell_type": "code",
   "execution_count": null,
   "metadata": {},
   "outputs": [],
   "source": []
  },
  {
   "cell_type": "code",
   "execution_count": 49,
   "metadata": {},
   "outputs": [],
   "source": [
    "train_공가수비율_scale = list(train_code_agg.공가수비율.describe().iloc[3:8].values)"
   ]
  },
  {
   "cell_type": "code",
   "execution_count": 50,
   "metadata": {},
   "outputs": [],
   "source": [
    "def 범주화(x):\n",
    "    if train_공가수비율_scale[0] <= x < train_공가수비율_scale[1]  :\n",
    "        return 1\n",
    "    elif train_공가수비율_scale[1] <= x < train_공가수비율_scale[2]:\n",
    "        return 2\n",
    "    elif train_공가수비율_scale[2] <= x < train_공가수비율_scale[3]:\n",
    "        return 3\n",
    "    elif train_공가수비율_scale[3] <= x:\n",
    "        return 4\n",
    "\n",
    "train_code_agg['공가수비율분류'] = train_code_agg.공가수비율.apply(범주화)\n",
    "test_code_agg['공가수비율분류'] = test_code_agg.공가수비율.apply(범주화)"
   ]
  },
  {
   "cell_type": "markdown",
   "metadata": {},
   "source": [
    "#### 임대료, 임대보증금 범주화"
   ]
  },
  {
   "cell_type": "code",
   "execution_count": 51,
   "metadata": {},
   "outputs": [],
   "source": [
    "train_임대료_scale = list(train_code_agg.임대료평균.describe().iloc[3:8].values)\n",
    "train_임대보증금_scale = list(train_code_agg.임대보증금평균.describe().iloc[3:8].values)"
   ]
  },
  {
   "cell_type": "code",
   "execution_count": 52,
   "metadata": {},
   "outputs": [],
   "source": [
    "def 범주화(x):\n",
    "    if train_임대료_scale[0] <= x < train_임대료_scale[1]  :\n",
    "        return 1\n",
    "    elif train_임대료_scale[1] <= x < train_임대료_scale[2]:\n",
    "        return 2\n",
    "    elif train_임대료_scale[2] <= x < train_임대료_scale[3]:\n",
    "        return 3\n",
    "    elif train_임대료_scale[3] <= x:\n",
    "        return 4\n",
    "\n",
    "train_code_agg['임대료분류'] = train_code_agg.임대료평균.apply(범주화)\n",
    "test_code_agg['임대료분류'] = test_code_agg.임대료평균.apply(범주화)"
   ]
  },
  {
   "cell_type": "code",
   "execution_count": 53,
   "metadata": {},
   "outputs": [],
   "source": [
    "def 범주화(x):\n",
    "    if train_임대보증금_scale[0] <= x < train_임대보증금_scale[1]  :\n",
    "        return 1\n",
    "    elif train_임대보증금_scale[1] <= x < train_임대보증금_scale[2]:\n",
    "        return 2\n",
    "    elif train_임대보증금_scale[2] <= x < train_임대보증금_scale[3]:\n",
    "        return 3\n",
    "    elif train_임대보증금_scale[3] <= x:\n",
    "        return 4\n",
    "\n",
    "train_code_agg['임대보증금분류'] = train_code_agg.임대보증금평균.apply(범주화)\n",
    "test_code_agg['임대보증금분류'] = test_code_agg.임대보증금평균.apply(범주화)"
   ]
  },
  {
   "cell_type": "code",
   "execution_count": null,
   "metadata": {},
   "outputs": [],
   "source": []
  },
  {
   "cell_type": "code",
   "execution_count": 54,
   "metadata": {},
   "outputs": [],
   "source": [
    "train_세대당주차면수_scale = list(train_code_agg.세대당주차면수.describe().iloc[3:8].values)"
   ]
  },
  {
   "cell_type": "code",
   "execution_count": 55,
   "metadata": {},
   "outputs": [],
   "source": [
    "def 범주화(x):\n",
    "    if train_세대당주차면수_scale[0] <= x < train_세대당주차면수_scale[1]  :\n",
    "        return 1\n",
    "    elif train_세대당주차면수_scale[1] <= x < train_세대당주차면수_scale[2]:\n",
    "        return 2\n",
    "    elif train_세대당주차면수_scale[2] <= x < train_세대당주차면수_scale[3]:\n",
    "        return 3\n",
    "    elif train_세대당주차면수_scale[3] <= x:\n",
    "        return 4\n",
    "\n",
    "train_code_agg['세대당주차면수분류'] = train_code_agg.세대당주차면수.apply(범주화)\n",
    "test_code_agg['세대당주차면수분류'] = test_code_agg.세대당주차면수.apply(범주화)"
   ]
  },
  {
   "cell_type": "code",
   "execution_count": null,
   "metadata": {},
   "outputs": [],
   "source": []
  },
  {
   "cell_type": "code",
   "execution_count": 56,
   "metadata": {},
   "outputs": [],
   "source": [
    "train_총임대면적_scale = list(train_code_agg.총임대면적.describe().iloc[3:8].values)"
   ]
  },
  {
   "cell_type": "code",
   "execution_count": 57,
   "metadata": {},
   "outputs": [],
   "source": [
    "def 범주화(x):\n",
    "    if train_총임대면적_scale[0] <= x < train_총임대면적_scale[1]  :\n",
    "        return 1\n",
    "    elif train_총임대면적_scale[1] <= x < train_총임대면적_scale[2]:\n",
    "        return 2\n",
    "    elif train_총임대면적_scale[2] <= x < train_총임대면적_scale[3]:\n",
    "        return 3\n",
    "    elif train_총임대면적_scale[3] <= x:\n",
    "        return 4\n",
    "\n",
    "train_code_agg['총임대면적분류'] = train_code_agg.총임대면적.apply(범주화)\n",
    "test_code_agg['총임대면적분류'] = test_code_agg.총임대면적.apply(범주화)"
   ]
  },
  {
   "cell_type": "code",
   "execution_count": null,
   "metadata": {},
   "outputs": [],
   "source": []
  },
  {
   "cell_type": "markdown",
   "metadata": {},
   "source": [
    "train_공가수_scale = list(train_code_agg.공가수.describe().iloc[3:8].values)"
   ]
  },
  {
   "cell_type": "markdown",
   "metadata": {},
   "source": [
    "def 범주화(x):\n",
    "    if train_공가수_scale[0] <= x < train_공가수_scale[1]  :\n",
    "        return 1\n",
    "    elif train_공가수_scale[1] <= x < train_공가수_scale[2]:\n",
    "        return 2\n",
    "    elif train_공가수_scale[2] <= x < train_공가수_scale[3]:\n",
    "        return 3\n",
    "    elif train_공가수_scale[3] <= x:\n",
    "        return 4\n",
    "\n",
    "train_code_agg['공가수분류'] = train_code_agg.공가수.apply(범주화)\n",
    "test_code_agg['공가수분류'] = test_code_agg.공가수.apply(범주화)"
   ]
  },
  {
   "cell_type": "code",
   "execution_count": null,
   "metadata": {},
   "outputs": [],
   "source": []
  },
  {
   "cell_type": "code",
   "execution_count": 58,
   "metadata": {},
   "outputs": [],
   "source": [
    "train_세대당평균전용면적_scale = list(train_code_agg.세대당평균전용면적.describe().iloc[3:8].values)"
   ]
  },
  {
   "cell_type": "code",
   "execution_count": 59,
   "metadata": {},
   "outputs": [],
   "source": [
    "def 범주화(x):\n",
    "    if train_세대당평균전용면적_scale[0] <= x < train_세대당평균전용면적_scale[1]  :\n",
    "        return 1\n",
    "    elif train_세대당평균전용면적_scale[1] <= x < train_세대당평균전용면적_scale[2]:\n",
    "        return 2\n",
    "    elif train_세대당평균전용면적_scale[2] <= x < train_세대당평균전용면적_scale[3]:\n",
    "        return 3\n",
    "    elif train_세대당평균전용면적_scale[3] <= x:\n",
    "        return 4\n",
    "\n",
    "train_code_agg['세대당평균전용면적분류'] = train_code_agg.세대당평균전용면적.apply(범주화)\n",
    "test_code_agg['세대당평균전용면적분류'] = test_code_agg.세대당평균전용면적.apply(범주화)"
   ]
  },
  {
   "cell_type": "markdown",
   "metadata": {},
   "source": [
    "### mean median std"
   ]
  },
  {
   "cell_type": "code",
   "execution_count": 60,
   "metadata": {},
   "outputs": [],
   "source": [
    "def with_not_unique_column(code_agg, not_unique_column, handle_things, func_list):\n",
    "    frame_list = []\n",
    "    for func in func_list:\n",
    "        for handle_thing in handle_things:\n",
    "            grouped_frame = code_agg.groupby(not_unique_column)[handle_thing].agg(func)\n",
    "            grouped_frame = grouped_frame.reset_index()\n",
    "            grouped_frame.columns = [not_unique_column, not_unique_column+'_'+ handle_thing +'_'+func]\n",
    "            frame_list.append(grouped_frame)\n",
    "    return frame_list"
   ]
  },
  {
   "cell_type": "code",
   "execution_count": 61,
   "metadata": {},
   "outputs": [],
   "source": [
    "train_geo = with_not_unique_column(train_code_agg, '지역',['단지내주차면수', \n",
    "                                                         '총세대수','세대당주차면수'],\n",
    "                                   ['std'])\n",
    "\n",
    "def merge_m3(code_agg, total_frame_list):\n",
    "    for frame_list in total_frame_list:\n",
    "        for frame in frame_list:\n",
    "            code_agg = pd.merge(code_agg,frame)\n",
    "    return code_agg\n",
    "\n",
    "train_total = [train_geo]\n",
    "\n",
    "train_code_agg = merge_m3(train_code_agg,train_total)\n",
    "test_code_agg = merge_m3(test_code_agg,train_total)"
   ]
  },
  {
   "cell_type": "markdown",
   "metadata": {},
   "source": [
    "**열 삭제**"
   ]
  },
  {
   "cell_type": "code",
   "execution_count": 62,
   "metadata": {},
   "outputs": [],
   "source": [
    "train_code_agg = train_code_agg.drop(['임대료평균', '임대보증금평균','80~100대' , '버스',  '0~10대(남자)', '자격유형_행복주택공급대상',\n",
    "                                '임대건물_아파트','0~10대(여자)','60~70대(남자)','세대당주차면수'\n",
    "                                ],\n",
    "                           axis='columns')"
   ]
  },
  {
   "cell_type": "code",
   "execution_count": 63,
   "metadata": {},
   "outputs": [],
   "source": [
    "test_code_agg = test_code_agg.drop(['임대료평균', '임대보증금평균','80~100대',   '버스', '0~10대(남자)', '자격유형_행복주택공급대상',\n",
    "                                '임대건물_아파트','0~10대(여자)','60~70대(남자)','세대당주차면수'\n",
    "                                ], \n",
    "                           axis='columns')"
   ]
  },
  {
   "cell_type": "code",
   "execution_count": 64,
   "metadata": {
    "scrolled": false
   },
   "outputs": [
    {
     "name": "stdout",
     "output_type": "stream",
     "text": [
      "<class 'pandas.core.frame.DataFrame'>\n",
      "Int64Index: 423 entries, 0 to 422\n",
      "Data columns (total 29 columns):\n",
      " #   Column              Non-Null Count  Dtype  \n",
      "---  ------              --------------  -----  \n",
      " 0   단지코드                423 non-null    object \n",
      " 1   총세대수                423 non-null    int64  \n",
      " 2   지역                  423 non-null    object \n",
      " 3   공가수                 423 non-null    float64\n",
      " 4   지하철                 423 non-null    float64\n",
      " 5   단지내주차면수             423 non-null    float64\n",
      " 6   등록차량수               423 non-null    float64\n",
      " 7   임대건물_상가             423 non-null    int64  \n",
      " 8   자격유형_A              423 non-null    int64  \n",
      " 9   자격유형_D              423 non-null    int64  \n",
      " 10  자격유형_국민임대/장기전세공급대상  423 non-null    int64  \n",
      " 11  자격유형_영구임대공급대상       423 non-null    int64  \n",
      " 12  20~30대(여자)          423 non-null    float64\n",
      " 13  20~30대(남자)          423 non-null    float64\n",
      " 14  40~50대(여자)          423 non-null    float64\n",
      " 15  40~50대(남자)          423 non-null    float64\n",
      " 16  60~70대(여자)          423 non-null    float64\n",
      " 17  총임대면적               423 non-null    float64\n",
      " 18  세대당평균전용면적           423 non-null    float64\n",
      " 19  공가수비율               423 non-null    float64\n",
      " 20  공가수비율분류             423 non-null    int64  \n",
      " 21  임대료분류               423 non-null    int64  \n",
      " 22  임대보증금분류             423 non-null    int64  \n",
      " 23  세대당주차면수분류           423 non-null    int64  \n",
      " 24  총임대면적분류             423 non-null    int64  \n",
      " 25  세대당평균전용면적분류         423 non-null    int64  \n",
      " 26  지역_단지내주차면수_std      423 non-null    float64\n",
      " 27  지역_총세대수_std         423 non-null    float64\n",
      " 28  지역_세대당주차면수_std      423 non-null    float64\n",
      "dtypes: float64(15), int64(12), object(2)\n",
      "memory usage: 99.1+ KB\n"
     ]
    }
   ],
   "source": [
    "train_code_agg.info()"
   ]
  },
  {
   "cell_type": "code",
   "execution_count": 65,
   "metadata": {},
   "outputs": [
    {
     "name": "stdout",
     "output_type": "stream",
     "text": [
      "<class 'pandas.core.frame.DataFrame'>\n",
      "Int64Index: 150 entries, 0 to 149\n",
      "Data columns (total 29 columns):\n",
      " #   Column              Non-Null Count  Dtype  \n",
      "---  ------              --------------  -----  \n",
      " 0   단지코드                150 non-null    object \n",
      " 1   총세대수                150 non-null    int64  \n",
      " 2   지역                  150 non-null    object \n",
      " 3   공가수                 150 non-null    float64\n",
      " 4   지하철                 150 non-null    float64\n",
      " 5   단지내주차면수             150 non-null    float64\n",
      " 6   등록차량수               150 non-null    int64  \n",
      " 7   임대건물_상가             150 non-null    int64  \n",
      " 8   자격유형_A              150 non-null    int64  \n",
      " 9   자격유형_D              150 non-null    int64  \n",
      " 10  자격유형_국민임대/장기전세공급대상  150 non-null    int64  \n",
      " 11  자격유형_영구임대공급대상       150 non-null    int64  \n",
      " 12  20~30대(여자)          150 non-null    float64\n",
      " 13  20~30대(남자)          150 non-null    float64\n",
      " 14  40~50대(여자)          150 non-null    float64\n",
      " 15  40~50대(남자)          150 non-null    float64\n",
      " 16  60~70대(여자)          150 non-null    float64\n",
      " 17  총임대면적               150 non-null    float64\n",
      " 18  세대당평균전용면적           150 non-null    float64\n",
      " 19  공가수비율               150 non-null    float64\n",
      " 20  공가수비율분류             150 non-null    int64  \n",
      " 21  임대료분류               150 non-null    int64  \n",
      " 22  임대보증금분류             150 non-null    int64  \n",
      " 23  세대당주차면수분류           150 non-null    int64  \n",
      " 24  총임대면적분류             150 non-null    int64  \n",
      " 25  세대당평균전용면적분류         150 non-null    int64  \n",
      " 26  지역_단지내주차면수_std      150 non-null    float64\n",
      " 27  지역_총세대수_std         150 non-null    float64\n",
      " 28  지역_세대당주차면수_std      150 non-null    float64\n",
      "dtypes: float64(14), int64(13), object(2)\n",
      "memory usage: 35.2+ KB\n"
     ]
    }
   ],
   "source": [
    "test_code_agg.info()"
   ]
  },
  {
   "cell_type": "code",
   "execution_count": 66,
   "metadata": {},
   "outputs": [],
   "source": [
    "from sklearn.preprocessing import StandardScaler"
   ]
  },
  {
   "cell_type": "code",
   "execution_count": 67,
   "metadata": {},
   "outputs": [
    {
     "data": {
      "text/plain": [
       "Index(['단지코드', '총세대수', '지역', '공가수', '지하철', '단지내주차면수', '등록차량수', '임대건물_상가',\n",
       "       '자격유형_A', '자격유형_D', '자격유형_국민임대/장기전세공급대상', '자격유형_영구임대공급대상', '20~30대(여자)',\n",
       "       '20~30대(남자)', '40~50대(여자)', '40~50대(남자)', '60~70대(여자)', '총임대면적',\n",
       "       '세대당평균전용면적', '공가수비율', '공가수비율분류', '임대료분류', '임대보증금분류', '세대당주차면수분류',\n",
       "       '총임대면적분류', '세대당평균전용면적분류', '지역_단지내주차면수_std', '지역_총세대수_std',\n",
       "       '지역_세대당주차면수_std'],\n",
       "      dtype='object')"
      ]
     },
     "execution_count": 67,
     "metadata": {},
     "output_type": "execute_result"
    }
   ],
   "source": [
    "train_code_agg.columns"
   ]
  },
  {
   "cell_type": "markdown",
   "metadata": {},
   "source": [
    "**스케일링**"
   ]
  },
  {
   "cell_type": "code",
   "execution_count": 68,
   "metadata": {},
   "outputs": [],
   "source": [
    "scailing_features = ['총세대수','총임대면적','단지내주차면수','지하철']\n",
    "scaler = StandardScaler()\n",
    "train_code_agg.loc[:, scailing_features] = scaler.fit_transform(train_code_agg[scailing_features])\n",
    "test_code_agg.loc[:, scailing_features] = scaler.transform(test_code_agg[scailing_features])"
   ]
  },
  {
   "cell_type": "markdown",
   "metadata": {},
   "source": [
    "#### 오류 단지코드 삭제"
   ]
  },
  {
   "cell_type": "code",
   "execution_count": 69,
   "metadata": {},
   "outputs": [],
   "source": [
    "train_code_agg = train_code_agg.set_index('단지코드')\n",
    "a =  ['C2085','C1397','C2431', 'C1649','C1036','C1095', 'C2051', 'C1218', 'C1894', 'C2483', 'C1502', 'C1988']\n",
    "train_code_agg = train_code_agg.drop(a, axis=0)\n",
    "train_code_agg = train_code_agg.reset_index()"
   ]
  },
  {
   "cell_type": "markdown",
   "metadata": {},
   "source": [
    "### 모델링"
   ]
  },
  {
   "cell_type": "code",
   "execution_count": 70,
   "metadata": {},
   "outputs": [],
   "source": [
    "import sklearn\n",
    "import optuna\n",
    "from optuna import Trial\n",
    "from optuna.samplers import TPESampler\n",
    "from sklearn.metrics import mean_absolute_error\n",
    "from sklearn.model_selection import StratifiedKFold, train_test_split, cross_val_score\n",
    "from catboost import CatBoostRegressor,Pool"
   ]
  },
  {
   "cell_type": "code",
   "execution_count": 71,
   "metadata": {},
   "outputs": [],
   "source": [
    "from sklearn.preprocessing import LabelEncoder\n",
    "le = LabelEncoder()\n",
    "catcol = ['지역']\n",
    "for i in catcol:\n",
    "    le = LabelEncoder()\n",
    "    le.fit(train_code_agg[i])\n",
    "    train_code_agg[i] = le.transform(train_code_agg[i])\n",
    "    test_code_agg[i] = le.transform(test_code_agg[i])"
   ]
  },
  {
   "cell_type": "markdown",
   "metadata": {},
   "source": [
    "# 하이퍼 파라미터 튜닝"
   ]
  },
  {
   "cell_type": "code",
   "execution_count": 72,
   "metadata": {},
   "outputs": [],
   "source": [
    "#'''\n",
    "target = train_code_agg['등록차량수']\n",
    "train_data = train_code_agg.drop(['단지코드','등록차량수'], axis=1)\n",
    "\n",
    "test_data = pd.merge(sample,test_code_agg, left_on = 'code', right_on='단지코드')\n",
    "test_data = test_data.drop(['code','num','단지코드','등록차량수'], axis=1)\n",
    "#'''"
   ]
  },
  {
   "cell_type": "code",
   "execution_count": 73,
   "metadata": {},
   "outputs": [],
   "source": [
    "def objective(trial: Trial):\n",
    "    params_cat = {\n",
    "        \"random_state\": 0,\n",
    "        \"learning_rate\": 0.05,\n",
    "        \"n_estimators\": 500,\n",
    "        \"verbose\" : 0,\n",
    "        \"objective\" : \"MAE\",\n",
    "        \"max_depth\": trial.suggest_int(\"max_depth\", 4, 10),\n",
    "        \"colsample_bylevel\": trial.suggest_float(\"colsample_bylevel\", 0.8, 1.0),\n",
    "        \"subsample\": trial.suggest_float(\"subsample\", 0.1, 0.5),\n",
    "        \"min_child_samples\": trial.suggest_int(\"min_child_samples\", 3, 50),\n",
    "        \"max_bin\": trial.suggest_int(\"max_bin\", 100, 500),\n",
    "    }\n",
    "    \n",
    "    X_tr, X_val, y_tr, y_val = train_test_split(train_data , target, test_size=0.2)\n",
    "\n",
    "    model = CatBoostRegressor(**params_cat)\n",
    "    model.fit(\n",
    "        X_tr,\n",
    "        y_tr,\n",
    "        eval_set=[(X_tr, y_tr), (X_val, y_val)],\n",
    "        early_stopping_rounds=10,\n",
    "        verbose=False,\n",
    "    )\n",
    "\n",
    "    cat_pred = model.predict(X_val)\n",
    "    log_score = mean_absolute_error(y_val, cat_pred)\n",
    "    \n",
    "    return log_score"
   ]
  },
  {
   "cell_type": "code",
   "execution_count": 74,
   "metadata": {
    "scrolled": true
   },
   "outputs": [
    {
     "name": "stderr",
     "output_type": "stream",
     "text": [
      "\u001b[32m[I 2021-07-30 16:57:45,270]\u001b[0m A new study created in memory with name: cat_opt\u001b[0m\n",
      "\u001b[32m[I 2021-07-30 16:57:46,174]\u001b[0m Trial 0 finished with value: 109.91216254690275 and parameters: {'max_depth': 7, 'colsample_bylevel': 0.943037873274484, 'subsample': 0.3411053504286575, 'min_child_samples': 29, 'max_bin': 269}. Best is trial 0 with value: 109.91216254690275.\u001b[0m\n",
      "\u001b[32m[I 2021-07-30 16:57:47,062]\u001b[0m Trial 1 finished with value: 107.16787964315877 and parameters: {'max_depth': 8, 'colsample_bylevel': 0.8875174422525385, 'subsample': 0.4567092003128319, 'min_child_samples': 49, 'max_bin': 253}. Best is trial 1 with value: 107.16787964315877.\u001b[0m\n",
      "\u001b[32m[I 2021-07-30 16:57:48,171]\u001b[0m Trial 2 finished with value: 125.25156599156145 and parameters: {'max_depth': 9, 'colsample_bylevel': 0.9057789839505809, 'subsample': 0.32721782443757297, 'min_child_samples': 47, 'max_bin': 128}. Best is trial 1 with value: 107.16787964315877.\u001b[0m\n",
      "\u001b[32m[I 2021-07-30 16:57:48,514]\u001b[0m Trial 3 finished with value: 90.0050138535686 and parameters: {'max_depth': 4, 'colsample_bylevel': 0.8040436794880652, 'subsample': 0.4330479382191752, 'min_child_samples': 40, 'max_bin': 448}. Best is trial 3 with value: 90.0050138535686.\u001b[0m\n",
      "\u001b[32m[I 2021-07-30 16:57:50,561]\u001b[0m Trial 4 finished with value: 156.61453372880771 and parameters: {'max_depth': 10, 'colsample_bylevel': 0.9598317128433447, 'subsample': 0.2845917449011728, 'min_child_samples': 40, 'max_bin': 147}. Best is trial 3 with value: 90.0050138535686.\u001b[0m\n",
      "\u001b[32m[I 2021-07-30 16:57:51,375]\u001b[0m Trial 5 finished with value: 116.26268920334427 and parameters: {'max_depth': 8, 'colsample_bylevel': 0.8286706574818093, 'subsample': 0.47786756681983356, 'min_child_samples': 28, 'max_bin': 266}. Best is trial 3 with value: 90.0050138535686.\u001b[0m\n",
      "\u001b[32m[I 2021-07-30 16:57:51,537]\u001b[0m Trial 6 finished with value: 105.92153131033695 and parameters: {'max_depth': 5, 'colsample_bylevel': 0.9548467378868434, 'subsample': 0.2824601328866194, 'min_child_samples': 30, 'max_bin': 107}. Best is trial 3 with value: 90.0050138535686.\u001b[0m\n",
      "\u001b[32m[I 2021-07-30 16:57:52,360]\u001b[0m Trial 7 finished with value: 133.64711231092136 and parameters: {'max_depth': 8, 'colsample_bylevel': 0.9224191445444843, 'subsample': 0.34677359874990277, 'min_child_samples': 48, 'max_bin': 373}. Best is trial 3 with value: 90.0050138535686.\u001b[0m\n",
      "\u001b[32m[I 2021-07-30 16:57:52,607]\u001b[0m Trial 8 finished with value: 142.33431614428488 and parameters: {'max_depth': 6, 'colsample_bylevel': 0.8874063907598683, 'subsample': 0.37905247837090594, 'min_child_samples': 5, 'max_bin': 367}. Best is trial 3 with value: 90.0050138535686.\u001b[0m\n",
      "\u001b[32m[I 2021-07-30 16:57:53,513]\u001b[0m Trial 9 finished with value: 120.4243905837209 and parameters: {'max_depth': 8, 'colsample_bylevel': 0.8420765122147682, 'subsample': 0.15157051906194133, 'min_child_samples': 18, 'max_bin': 245}. Best is trial 3 with value: 90.0050138535686.\u001b[0m\n",
      "\u001b[32m[I 2021-07-30 16:57:53,754]\u001b[0m Trial 10 finished with value: 118.23962489308813 and parameters: {'max_depth': 4, 'colsample_bylevel': 0.9949759755974841, 'subsample': 0.41935625251621206, 'min_child_samples': 38, 'max_bin': 488}. Best is trial 3 with value: 90.0050138535686.\u001b[0m\n",
      "\u001b[32m[I 2021-07-30 16:57:53,985]\u001b[0m Trial 11 finished with value: 107.06742312847067 and parameters: {'max_depth': 4, 'colsample_bylevel': 0.9912686835146071, 'subsample': 0.23315366114539116, 'min_child_samples': 18, 'max_bin': 491}. Best is trial 3 with value: 90.0050138535686.\u001b[0m\n",
      "\u001b[32m[I 2021-07-30 16:57:54,319]\u001b[0m Trial 12 finished with value: 85.70632849124807 and parameters: {'max_depth': 5, 'colsample_bylevel': 0.8083627889054776, 'subsample': 0.22482679942497147, 'min_child_samples': 36, 'max_bin': 421}. Best is trial 12 with value: 85.70632849124807.\u001b[0m\n",
      "\u001b[32m[I 2021-07-30 16:57:54,609]\u001b[0m Trial 13 finished with value: 121.98309447623801 and parameters: {'max_depth': 5, 'colsample_bylevel': 0.8012019810974097, 'subsample': 0.14580202714067508, 'min_child_samples': 37, 'max_bin': 420}. Best is trial 12 with value: 85.70632849124807.\u001b[0m\n",
      "\u001b[32m[I 2021-07-30 16:57:54,969]\u001b[0m Trial 14 finished with value: 141.0885158551004 and parameters: {'max_depth': 5, 'colsample_bylevel': 0.8009530042839619, 'subsample': 0.21265382866268234, 'min_child_samples': 42, 'max_bin': 419}. Best is trial 12 with value: 85.70632849124807.\u001b[0m\n",
      "\u001b[32m[I 2021-07-30 16:57:55,219]\u001b[0m Trial 15 finished with value: 126.20359944054832 and parameters: {'max_depth': 4, 'colsample_bylevel': 0.8479985616165847, 'subsample': 0.1945651606857068, 'min_child_samples': 21, 'max_bin': 447}. Best is trial 12 with value: 85.70632849124807.\u001b[0m\n",
      "\u001b[32m[I 2021-07-30 16:57:55,492]\u001b[0m Trial 16 finished with value: 102.84083208938172 and parameters: {'max_depth': 6, 'colsample_bylevel': 0.8266629009439597, 'subsample': 0.11090410274991541, 'min_child_samples': 34, 'max_bin': 341}. Best is trial 12 with value: 85.70632849124807.\u001b[0m\n",
      "\u001b[32m[I 2021-07-30 16:57:55,824]\u001b[0m Trial 17 finished with value: 113.46918119883122 and parameters: {'max_depth': 6, 'colsample_bylevel': 0.8581374409151061, 'subsample': 0.2525142383117217, 'min_child_samples': 44, 'max_bin': 469}. Best is trial 12 with value: 85.70632849124807.\u001b[0m\n",
      "\u001b[32m[I 2021-07-30 16:57:56,169]\u001b[0m Trial 18 finished with value: 126.76349919507872 and parameters: {'max_depth': 4, 'colsample_bylevel': 0.8166520051954491, 'subsample': 0.39520056049552676, 'min_child_samples': 34, 'max_bin': 323}. Best is trial 12 with value: 85.70632849124807.\u001b[0m\n",
      "\u001b[32m[I 2021-07-30 16:57:56,395]\u001b[0m Trial 19 finished with value: 110.16062946965239 and parameters: {'max_depth': 5, 'colsample_bylevel': 0.8578767428445331, 'subsample': 0.44755032145511087, 'min_child_samples': 23, 'max_bin': 415}. Best is trial 12 with value: 85.70632849124807.\u001b[0m\n",
      "\u001b[32m[I 2021-07-30 16:57:56,627]\u001b[0m Trial 20 finished with value: 110.86058979488936 and parameters: {'max_depth': 6, 'colsample_bylevel': 0.8009153728645909, 'subsample': 0.1532846680606524, 'min_child_samples': 11, 'max_bin': 386}. Best is trial 12 with value: 85.70632849124807.\u001b[0m\n",
      "\u001b[32m[I 2021-07-30 16:57:57,022]\u001b[0m Trial 21 finished with value: 109.50904651824688 and parameters: {'max_depth': 6, 'colsample_bylevel': 0.8228122855452639, 'subsample': 0.12226226177968856, 'min_child_samples': 33, 'max_bin': 328}. Best is trial 12 with value: 85.70632849124807.\u001b[0m\n",
      "\u001b[32m[I 2021-07-30 16:57:57,653]\u001b[0m Trial 22 finished with value: 136.02801808918494 and parameters: {'max_depth': 7, 'colsample_bylevel': 0.8145109865815682, 'subsample': 0.12073236911619604, 'min_child_samples': 34, 'max_bin': 342}. Best is trial 12 with value: 85.70632849124807.\u001b[0m\n",
      "\u001b[32m[I 2021-07-30 16:57:57,934]\u001b[0m Trial 23 finished with value: 125.11909827067285 and parameters: {'max_depth': 5, 'colsample_bylevel': 0.8375821311214467, 'subsample': 0.19026199159656865, 'min_child_samples': 45, 'max_bin': 446}. Best is trial 12 with value: 85.70632849124807.\u001b[0m\n",
      "\u001b[32m[I 2021-07-30 16:57:58,290]\u001b[0m Trial 24 finished with value: 130.41085508621754 and parameters: {'max_depth': 6, 'colsample_bylevel': 0.800815335269833, 'subsample': 0.2517167848007181, 'min_child_samples': 37, 'max_bin': 295}. Best is trial 12 with value: 85.70632849124807.\u001b[0m\n",
      "\u001b[32m[I 2021-07-30 16:57:58,438]\u001b[0m Trial 25 finished with value: 125.17346309681872 and parameters: {'max_depth': 4, 'colsample_bylevel': 0.862833207116415, 'subsample': 0.10491522148219565, 'min_child_samples': 41, 'max_bin': 206}. Best is trial 12 with value: 85.70632849124807.\u001b[0m\n",
      "\u001b[32m[I 2021-07-30 16:57:58,763]\u001b[0m Trial 26 finished with value: 101.23374119385615 and parameters: {'max_depth': 5, 'colsample_bylevel': 0.815244155126446, 'subsample': 0.31271295743272126, 'min_child_samples': 25, 'max_bin': 392}. Best is trial 12 with value: 85.70632849124807.\u001b[0m\n",
      "\u001b[32m[I 2021-07-30 16:57:59,057]\u001b[0m Trial 27 finished with value: 138.4927613649146 and parameters: {'max_depth': 5, 'colsample_bylevel': 0.8738316101430126, 'subsample': 0.3098681539520652, 'min_child_samples': 26, 'max_bin': 393}. Best is trial 12 with value: 85.70632849124807.\u001b[0m\n",
      "\u001b[32m[I 2021-07-30 16:57:59,296]\u001b[0m Trial 28 finished with value: 158.95240765995268 and parameters: {'max_depth': 4, 'colsample_bylevel': 0.8122191783362623, 'subsample': 0.3730807970169074, 'min_child_samples': 24, 'max_bin': 455}. Best is trial 12 with value: 85.70632849124807.\u001b[0m\n"
     ]
    },
    {
     "name": "stderr",
     "output_type": "stream",
     "text": [
      "\u001b[32m[I 2021-07-30 16:57:59,952]\u001b[0m Trial 29 finished with value: 129.20441700189664 and parameters: {'max_depth': 7, 'colsample_bylevel': 0.8363450158903151, 'subsample': 0.49760513380912563, 'min_child_samples': 31, 'max_bin': 500}. Best is trial 12 with value: 85.70632849124807.\u001b[0m\n",
      "\u001b[32m[I 2021-07-30 16:58:00,239]\u001b[0m Trial 30 finished with value: 98.63033024981279 and parameters: {'max_depth': 5, 'colsample_bylevel': 0.8101300807842005, 'subsample': 0.35730192911283276, 'min_child_samples': 14, 'max_bin': 404}. Best is trial 12 with value: 85.70632849124807.\u001b[0m\n",
      "\u001b[32m[I 2021-07-30 16:58:00,412]\u001b[0m Trial 31 finished with value: 111.48212675605133 and parameters: {'max_depth': 5, 'colsample_bylevel': 0.8105524401375293, 'subsample': 0.3452204100833708, 'min_child_samples': 16, 'max_bin': 406}. Best is trial 12 with value: 85.70632849124807.\u001b[0m\n",
      "\u001b[32m[I 2021-07-30 16:58:00,642]\u001b[0m Trial 32 finished with value: 93.4442569551919 and parameters: {'max_depth': 5, 'colsample_bylevel': 0.8012350849521522, 'subsample': 0.4224900732291292, 'min_child_samples': 10, 'max_bin': 438}. Best is trial 12 with value: 85.70632849124807.\u001b[0m\n",
      "\u001b[32m[I 2021-07-30 16:58:00,908]\u001b[0m Trial 33 finished with value: 106.74069846708332 and parameters: {'max_depth': 4, 'colsample_bylevel': 0.8049591499754173, 'subsample': 0.4187404373855996, 'min_child_samples': 3, 'max_bin': 434}. Best is trial 12 with value: 85.70632849124807.\u001b[0m\n",
      "\u001b[32m[I 2021-07-30 16:58:01,085]\u001b[0m Trial 34 finished with value: 92.09443840901328 and parameters: {'max_depth': 5, 'colsample_bylevel': 0.8319871228823964, 'subsample': 0.44582075009440975, 'min_child_samples': 10, 'max_bin': 471}. Best is trial 12 with value: 85.70632849124807.\u001b[0m\n",
      "\u001b[32m[I 2021-07-30 16:58:01,294]\u001b[0m Trial 35 finished with value: 110.7836402957303 and parameters: {'max_depth': 4, 'colsample_bylevel': 0.8360062909218829, 'subsample': 0.46063686361078654, 'min_child_samples': 8, 'max_bin': 472}. Best is trial 12 with value: 85.70632849124807.\u001b[0m\n",
      "\u001b[32m[I 2021-07-30 16:58:01,597]\u001b[0m Trial 36 finished with value: 152.55510301392903 and parameters: {'max_depth': 6, 'colsample_bylevel': 0.8258487131269227, 'subsample': 0.43387839380710264, 'min_child_samples': 10, 'max_bin': 467}. Best is trial 12 with value: 85.70632849124807.\u001b[0m\n",
      "\u001b[32m[I 2021-07-30 16:58:05,516]\u001b[0m Trial 37 finished with value: 152.45814909179686 and parameters: {'max_depth': 10, 'colsample_bylevel': 0.9105950332225079, 'subsample': 0.49199946822478435, 'min_child_samples': 50, 'max_bin': 434}. Best is trial 12 with value: 85.70632849124807.\u001b[0m\n",
      "\u001b[32m[I 2021-07-30 16:58:06,537]\u001b[0m Trial 38 finished with value: 162.00306080748496 and parameters: {'max_depth': 7, 'colsample_bylevel': 0.8866307583531053, 'subsample': 0.4687058347018137, 'min_child_samples': 6, 'max_bin': 500}. Best is trial 12 with value: 85.70632849124807.\u001b[0m\n",
      "\u001b[32m[I 2021-07-30 16:58:07,199]\u001b[0m Trial 39 finished with value: 145.83933930897388 and parameters: {'max_depth': 5, 'colsample_bylevel': 0.8479783045287506, 'subsample': 0.4108732920621286, 'min_child_samples': 13, 'max_bin': 363}. Best is trial 12 with value: 85.70632849124807.\u001b[0m\n",
      "\u001b[32m[I 2021-07-30 16:58:07,546]\u001b[0m Trial 40 finished with value: 96.60969653042591 and parameters: {'max_depth': 4, 'colsample_bylevel': 0.9347204529807569, 'subsample': 0.4362198074023119, 'min_child_samples': 28, 'max_bin': 477}. Best is trial 12 with value: 85.70632849124807.\u001b[0m\n",
      "\u001b[32m[I 2021-07-30 16:58:07,944]\u001b[0m Trial 41 finished with value: 116.36832645042358 and parameters: {'max_depth': 4, 'colsample_bylevel': 0.9374832046882058, 'subsample': 0.4428028910480014, 'min_child_samples': 30, 'max_bin': 476}. Best is trial 12 with value: 85.70632849124807.\u001b[0m\n",
      "\u001b[32m[I 2021-07-30 16:58:08,098]\u001b[0m Trial 42 finished with value: 118.24213963875347 and parameters: {'max_depth': 4, 'colsample_bylevel': 0.951662252573347, 'subsample': 0.48154509001306384, 'min_child_samples': 39, 'max_bin': 434}. Best is trial 12 with value: 85.70632849124807.\u001b[0m\n",
      "\u001b[32m[I 2021-07-30 16:58:08,326]\u001b[0m Trial 43 finished with value: 111.70481315718905 and parameters: {'max_depth': 5, 'colsample_bylevel': 0.9768599039736708, 'subsample': 0.3928676628888535, 'min_child_samples': 19, 'max_bin': 454}. Best is trial 12 with value: 85.70632849124807.\u001b[0m\n",
      "\u001b[32m[I 2021-07-30 16:58:09,577]\u001b[0m Trial 44 finished with value: 118.77657197326907 and parameters: {'max_depth': 9, 'colsample_bylevel': 0.9162300977965344, 'subsample': 0.4393448211203558, 'min_child_samples': 36, 'max_bin': 481}. Best is trial 12 with value: 85.70632849124807.\u001b[0m\n",
      "\u001b[32m[I 2021-07-30 16:58:09,727]\u001b[0m Trial 45 finished with value: 107.14640853949241 and parameters: {'max_depth': 4, 'colsample_bylevel': 0.9757653376565955, 'subsample': 0.40068802315805535, 'min_child_samples': 43, 'max_bin': 431}. Best is trial 12 with value: 85.70632849124807.\u001b[0m\n",
      "\u001b[32m[I 2021-07-30 16:58:10,025]\u001b[0m Trial 46 finished with value: 128.11031716024527 and parameters: {'max_depth': 5, 'colsample_bylevel': 0.9327818319733121, 'subsample': 0.28288511242315045, 'min_child_samples': 28, 'max_bin': 499}. Best is trial 12 with value: 85.70632849124807.\u001b[0m\n",
      "\u001b[32m[I 2021-07-30 16:58:10,347]\u001b[0m Trial 47 finished with value: 115.6350384090919 and parameters: {'max_depth': 4, 'colsample_bylevel': 0.9626934854553983, 'subsample': 0.37005409588342464, 'min_child_samples': 40, 'max_bin': 459}. Best is trial 12 with value: 85.70632849124807.\u001b[0m\n",
      "\u001b[32m[I 2021-07-30 16:58:10,850]\u001b[0m Trial 48 finished with value: 129.0744306022294 and parameters: {'max_depth': 6, 'colsample_bylevel': 0.8984882454256358, 'subsample': 0.42737730832526005, 'min_child_samples': 3, 'max_bin': 482}. Best is trial 12 with value: 85.70632849124807.\u001b[0m\n",
      "\u001b[32m[I 2021-07-30 16:58:11,280]\u001b[0m Trial 49 finished with value: 104.87159417646644 and parameters: {'max_depth': 5, 'colsample_bylevel': 0.9276666147759514, 'subsample': 0.45943692985977874, 'min_child_samples': 46, 'max_bin': 374}. Best is trial 12 with value: 85.70632849124807.\u001b[0m\n",
      "\u001b[32m[I 2021-07-30 16:58:11,497]\u001b[0m Trial 50 finished with value: 97.33375304348296 and parameters: {'max_depth': 4, 'colsample_bylevel': 0.9020173365787515, 'subsample': 0.32983740239034065, 'min_child_samples': 22, 'max_bin': 442}. Best is trial 12 with value: 85.70632849124807.\u001b[0m\n",
      "\u001b[32m[I 2021-07-30 16:58:11,638]\u001b[0m Trial 51 finished with value: 133.67925523161853 and parameters: {'max_depth': 4, 'colsample_bylevel': 0.9451124169623268, 'subsample': 0.3870605901399551, 'min_child_samples': 20, 'max_bin': 444}. Best is trial 12 with value: 85.70632849124807.\u001b[0m\n",
      "\u001b[32m[I 2021-07-30 16:58:11,920]\u001b[0m Trial 52 finished with value: 116.54114076435641 and parameters: {'max_depth': 4, 'colsample_bylevel': 0.9041868641277058, 'subsample': 0.25088671748454866, 'min_child_samples': 16, 'max_bin': 411}. Best is trial 12 with value: 85.70632849124807.\u001b[0m\n",
      "\u001b[32m[I 2021-07-30 16:58:12,483]\u001b[0m Trial 53 finished with value: 146.44021503435096 and parameters: {'max_depth': 5, 'colsample_bylevel': 0.8846999046960085, 'subsample': 0.33056152816475176, 'min_child_samples': 32, 'max_bin': 419}. Best is trial 12 with value: 85.70632849124807.\u001b[0m\n",
      "\u001b[32m[I 2021-07-30 16:58:12,783]\u001b[0m Trial 54 finished with value: 104.96496934835687 and parameters: {'max_depth': 4, 'colsample_bylevel': 0.8980885348760476, 'subsample': 0.2688162542596693, 'min_child_samples': 22, 'max_bin': 491}. Best is trial 12 with value: 85.70632849124807.\u001b[0m\n",
      "\u001b[32m[I 2021-07-30 16:58:12,967]\u001b[0m Trial 55 finished with value: 100.40833904025861 and parameters: {'max_depth': 5, 'colsample_bylevel': 0.9181546572292848, 'subsample': 0.4782552432507613, 'min_child_samples': 27, 'max_bin': 457}. Best is trial 12 with value: 85.70632849124807.\u001b[0m\n",
      "\u001b[32m[I 2021-07-30 16:58:13,201]\u001b[0m Trial 56 finished with value: 89.39740714157868 and parameters: {'max_depth': 6, 'colsample_bylevel': 0.8237960090510794, 'subsample': 0.22188645564741644, 'min_child_samples': 8, 'max_bin': 427}. Best is trial 12 with value: 85.70632849124807.\u001b[0m\n",
      "\u001b[32m[I 2021-07-30 16:58:13,413]\u001b[0m Trial 57 finished with value: 96.82706943356251 and parameters: {'max_depth': 6, 'colsample_bylevel': 0.8220855921332659, 'subsample': 0.19607180346042363, 'min_child_samples': 7, 'max_bin': 361}. Best is trial 12 with value: 85.70632849124807.\u001b[0m\n"
     ]
    },
    {
     "name": "stderr",
     "output_type": "stream",
     "text": [
      "\u001b[32m[I 2021-07-30 16:58:13,863]\u001b[0m Trial 58 finished with value: 136.8347044004928 and parameters: {'max_depth': 6, 'colsample_bylevel': 0.8306174918206359, 'subsample': 0.2228180782789627, 'min_child_samples': 9, 'max_bin': 423}. Best is trial 12 with value: 85.70632849124807.\u001b[0m\n",
      "\u001b[32m[I 2021-07-30 16:58:14,194]\u001b[0m Trial 59 finished with value: 131.56704065673065 and parameters: {'max_depth': 6, 'colsample_bylevel': 0.8044887083624503, 'subsample': 0.15978667613458547, 'min_child_samples': 4, 'max_bin': 171}. Best is trial 12 with value: 85.70632849124807.\u001b[0m\n",
      "\u001b[32m[I 2021-07-30 16:58:14,532]\u001b[0m Trial 60 finished with value: 109.61578007125222 and parameters: {'max_depth': 5, 'colsample_bylevel': 0.8211225849408115, 'subsample': 0.18177820401408368, 'min_child_samples': 12, 'max_bin': 384}. Best is trial 12 with value: 85.70632849124807.\u001b[0m\n",
      "\u001b[32m[I 2021-07-30 16:58:15,247]\u001b[0m Trial 61 finished with value: 120.90000408648869 and parameters: {'max_depth': 7, 'colsample_bylevel': 0.8198344722218834, 'subsample': 0.20933143399583432, 'min_child_samples': 8, 'max_bin': 362}. Best is trial 12 with value: 85.70632849124807.\u001b[0m\n",
      "\u001b[32m[I 2021-07-30 16:58:15,657]\u001b[0m Trial 62 finished with value: 130.2779956726714 and parameters: {'max_depth': 6, 'colsample_bylevel': 0.846170150431553, 'subsample': 0.23502236762712528, 'min_child_samples': 6, 'max_bin': 293}. Best is trial 12 with value: 85.70632849124807.\u001b[0m\n",
      "\u001b[32m[I 2021-07-30 16:58:16,297]\u001b[0m Trial 63 finished with value: 132.54466969418388 and parameters: {'max_depth': 6, 'colsample_bylevel': 0.8074640821267254, 'subsample': 0.18075134139027427, 'min_child_samples': 7, 'max_bin': 400}. Best is trial 12 with value: 85.70632849124807.\u001b[0m\n",
      "\u001b[32m[I 2021-07-30 16:58:16,606]\u001b[0m Trial 64 finished with value: 149.3567073291561 and parameters: {'max_depth': 5, 'colsample_bylevel': 0.8306668275215043, 'subsample': 0.16588587267925722, 'min_child_samples': 15, 'max_bin': 470}. Best is trial 12 with value: 85.70632849124807.\u001b[0m\n",
      "\u001b[32m[I 2021-07-30 16:58:17,245]\u001b[0m Trial 65 finished with value: 130.15444572443954 and parameters: {'max_depth': 7, 'colsample_bylevel': 0.8161085747638452, 'subsample': 0.2674547175407992, 'min_child_samples': 11, 'max_bin': 350}. Best is trial 12 with value: 85.70632849124807.\u001b[0m\n",
      "\u001b[32m[I 2021-07-30 16:58:17,600]\u001b[0m Trial 66 finished with value: 137.5863946015838 and parameters: {'max_depth': 6, 'colsample_bylevel': 0.8418715753199036, 'subsample': 0.14058895432972063, 'min_child_samples': 5, 'max_bin': 315}. Best is trial 12 with value: 85.70632849124807.\u001b[0m\n",
      "\u001b[32m[I 2021-07-30 16:58:19,046]\u001b[0m Trial 67 finished with value: 126.73049392975886 and parameters: {'max_depth': 8, 'colsample_bylevel': 0.800791288754999, 'subsample': 0.2069550168481577, 'min_child_samples': 36, 'max_bin': 424}. Best is trial 12 with value: 85.70632849124807.\u001b[0m\n",
      "\u001b[32m[I 2021-07-30 16:58:19,274]\u001b[0m Trial 68 finished with value: 128.6537762508449 and parameters: {'max_depth': 5, 'colsample_bylevel': 0.8546421348830356, 'subsample': 0.22664645919029552, 'min_child_samples': 10, 'max_bin': 379}. Best is trial 12 with value: 85.70632849124807.\u001b[0m\n",
      "\u001b[32m[I 2021-07-30 16:58:19,657]\u001b[0m Trial 69 finished with value: 122.8601539176695 and parameters: {'max_depth': 6, 'colsample_bylevel': 0.8258242937118471, 'subsample': 0.29603795453319853, 'min_child_samples': 17, 'max_bin': 460}. Best is trial 12 with value: 85.70632849124807.\u001b[0m\n",
      "\u001b[32m[I 2021-07-30 16:58:19,900]\u001b[0m Trial 70 finished with value: 118.41203175268663 and parameters: {'max_depth': 5, 'colsample_bylevel': 0.8080230423106973, 'subsample': 0.4101741643407756, 'min_child_samples': 48, 'max_bin': 398}. Best is trial 12 with value: 85.70632849124807.\u001b[0m\n",
      "\u001b[32m[I 2021-07-30 16:58:20,222]\u001b[0m Trial 71 finished with value: 121.0976757130217 and parameters: {'max_depth': 4, 'colsample_bylevel': 0.8680340485165242, 'subsample': 0.45062472325646, 'min_child_samples': 13, 'max_bin': 442}. Best is trial 12 with value: 85.70632849124807.\u001b[0m\n",
      "\u001b[32m[I 2021-07-30 16:58:20,475]\u001b[0m Trial 72 finished with value: 114.88500066687368 and parameters: {'max_depth': 4, 'colsample_bylevel': 0.8333133867994214, 'subsample': 0.4290522143345657, 'min_child_samples': 8, 'max_bin': 440}. Best is trial 12 with value: 85.70632849124807.\u001b[0m\n",
      "\u001b[32m[I 2021-07-30 16:58:20,608]\u001b[0m Trial 73 finished with value: 102.39718601133477 and parameters: {'max_depth': 5, 'colsample_bylevel': 0.8775556164636653, 'subsample': 0.19118058160624815, 'min_child_samples': 39, 'max_bin': 449}. Best is trial 12 with value: 85.70632849124807.\u001b[0m\n",
      "\u001b[32m[I 2021-07-30 16:58:20,861]\u001b[0m Trial 74 finished with value: 132.07655862076624 and parameters: {'max_depth': 4, 'colsample_bylevel': 0.8163910479382455, 'subsample': 0.41682904597077897, 'min_child_samples': 10, 'max_bin': 411}. Best is trial 12 with value: 85.70632849124807.\u001b[0m\n",
      "\u001b[32m[I 2021-07-30 16:58:21,307]\u001b[0m Trial 75 finished with value: 105.21246075342953 and parameters: {'max_depth': 5, 'colsample_bylevel': 0.8936784360905429, 'subsample': 0.46969729579915687, 'min_child_samples': 35, 'max_bin': 487}. Best is trial 12 with value: 85.70632849124807.\u001b[0m\n",
      "\u001b[32m[I 2021-07-30 16:58:21,847]\u001b[0m Trial 76 finished with value: 114.94172681992134 and parameters: {'max_depth': 6, 'colsample_bylevel': 0.8004768570358873, 'subsample': 0.2410296589719973, 'min_child_samples': 42, 'max_bin': 464}. Best is trial 12 with value: 85.70632849124807.\u001b[0m\n",
      "\u001b[32m[I 2021-07-30 16:58:22,217]\u001b[0m Trial 77 finished with value: 127.99842920262748 and parameters: {'max_depth': 4, 'colsample_bylevel': 0.8219018021848179, 'subsample': 0.36074572745378275, 'min_child_samples': 29, 'max_bin': 424}. Best is trial 12 with value: 85.70632849124807.\u001b[0m\n",
      "\u001b[32m[I 2021-07-30 16:58:22,416]\u001b[0m Trial 78 finished with value: 110.48616372700812 and parameters: {'max_depth': 4, 'colsample_bylevel': 0.8257863730686082, 'subsample': 0.4911200399460832, 'min_child_samples': 5, 'max_bin': 493}. Best is trial 12 with value: 85.70632849124807.\u001b[0m\n",
      "\u001b[32m[I 2021-07-30 16:58:23,441]\u001b[0m Trial 79 finished with value: 128.1369467237658 and parameters: {'max_depth': 7, 'colsample_bylevel': 0.8113058821584578, 'subsample': 0.4036090073290272, 'min_child_samples': 12, 'max_bin': 475}. Best is trial 12 with value: 85.70632849124807.\u001b[0m\n",
      "\u001b[32m[I 2021-07-30 16:58:23,782]\u001b[0m Trial 80 finished with value: 101.54363205611912 and parameters: {'max_depth': 5, 'colsample_bylevel': 0.8047444052471445, 'subsample': 0.4507025573273181, 'min_child_samples': 24, 'max_bin': 247}. Best is trial 12 with value: 85.70632849124807.\u001b[0m\n",
      "\u001b[32m[I 2021-07-30 16:58:24,050]\u001b[0m Trial 81 finished with value: 106.19483407015832 and parameters: {'max_depth': 5, 'colsample_bylevel': 0.8121439588488164, 'subsample': 0.38007346455551827, 'min_child_samples': 14, 'max_bin': 404}. Best is trial 12 with value: 85.70632849124807.\u001b[0m\n",
      "\u001b[32m[I 2021-07-30 16:58:24,323]\u001b[0m Trial 82 finished with value: 153.282010747415 and parameters: {'max_depth': 5, 'colsample_bylevel': 0.8382317797542487, 'subsample': 0.3344655240566968, 'min_child_samples': 7, 'max_bin': 432}. Best is trial 12 with value: 85.70632849124807.\u001b[0m\n",
      "\u001b[32m[I 2021-07-30 16:58:24,696]\u001b[0m Trial 83 finished with value: 128.95033408282092 and parameters: {'max_depth': 4, 'colsample_bylevel': 0.8199921864136765, 'subsample': 0.3185451834522585, 'min_child_samples': 18, 'max_bin': 451}. Best is trial 12 with value: 85.70632849124807.\u001b[0m\n",
      "\u001b[32m[I 2021-07-30 16:58:25,009]\u001b[0m Trial 84 finished with value: 125.06724491630493 and parameters: {'max_depth': 5, 'colsample_bylevel': 0.8104012303412659, 'subsample': 0.354407039319657, 'min_child_samples': 10, 'max_bin': 415}. Best is trial 12 with value: 85.70632849124807.\u001b[0m\n",
      "\u001b[32m[I 2021-07-30 16:58:25,620]\u001b[0m Trial 85 finished with value: 136.63354944700242 and parameters: {'max_depth': 6, 'colsample_bylevel': 0.964421736270198, 'subsample': 0.2964697115446029, 'min_child_samples': 14, 'max_bin': 429}. Best is trial 12 with value: 85.70632849124807.\u001b[0m\n",
      "\u001b[32m[I 2021-07-30 16:58:25,923]\u001b[0m Trial 86 finished with value: 108.99891972201104 and parameters: {'max_depth': 5, 'colsample_bylevel': 0.9439856989179549, 'subsample': 0.43935246875658396, 'min_child_samples': 32, 'max_bin': 394}. Best is trial 12 with value: 85.70632849124807.\u001b[0m\n"
     ]
    },
    {
     "name": "stderr",
     "output_type": "stream",
     "text": [
      "\u001b[32m[I 2021-07-30 16:58:26,143]\u001b[0m Trial 87 finished with value: 129.63707068705725 and parameters: {'max_depth': 4, 'colsample_bylevel': 0.8536129954093814, 'subsample': 0.1986240068662856, 'min_child_samples': 9, 'max_bin': 443}. Best is trial 12 with value: 85.70632849124807.\u001b[0m\n",
      "\u001b[32m[I 2021-07-30 16:58:26,335]\u001b[0m Trial 88 finished with value: 92.92313028761286 and parameters: {'max_depth': 5, 'colsample_bylevel': 0.9124483841185722, 'subsample': 0.42538335603545513, 'min_child_samples': 21, 'max_bin': 352}. Best is trial 12 with value: 85.70632849124807.\u001b[0m\n",
      "\u001b[32m[I 2021-07-30 16:58:26,504]\u001b[0m Trial 89 finished with value: 118.41555169091718 and parameters: {'max_depth': 4, 'colsample_bylevel': 0.9019467788812982, 'subsample': 0.46691381930259185, 'min_child_samples': 22, 'max_bin': 281}. Best is trial 12 with value: 85.70632849124807.\u001b[0m\n",
      "\u001b[32m[I 2021-07-30 16:58:27,047]\u001b[0m Trial 90 finished with value: 130.22315876098872 and parameters: {'max_depth': 6, 'colsample_bylevel': 0.9104923493048078, 'subsample': 0.423821965106884, 'min_child_samples': 26, 'max_bin': 331}. Best is trial 12 with value: 85.70632849124807.\u001b[0m\n",
      "\u001b[32m[I 2021-07-30 16:58:27,240]\u001b[0m Trial 91 finished with value: 98.96988894362242 and parameters: {'max_depth': 5, 'colsample_bylevel': 0.9128209179927459, 'subsample': 0.3220990965366684, 'min_child_samples': 21, 'max_bin': 369}. Best is trial 12 with value: 85.70632849124807.\u001b[0m\n",
      "\u001b[32m[I 2021-07-30 16:58:27,416]\u001b[0m Trial 92 finished with value: 118.66561090506718 and parameters: {'max_depth': 5, 'colsample_bylevel': 0.9308474338753312, 'subsample': 0.43403000397023717, 'min_child_samples': 24, 'max_bin': 355}. Best is trial 12 with value: 85.70632849124807.\u001b[0m\n",
      "\u001b[32m[I 2021-07-30 16:58:27,661]\u001b[0m Trial 93 finished with value: 119.98648950600816 and parameters: {'max_depth': 5, 'colsample_bylevel': 0.9367202985645622, 'subsample': 0.3881854067096331, 'min_child_samples': 12, 'max_bin': 411}. Best is trial 12 with value: 85.70632849124807.\u001b[0m\n",
      "\u001b[32m[I 2021-07-30 16:58:27,937]\u001b[0m Trial 94 finished with value: 120.4666019332993 and parameters: {'max_depth': 5, 'colsample_bylevel': 0.8936933614758659, 'subsample': 0.3081370457732874, 'min_child_samples': 15, 'max_bin': 339}. Best is trial 12 with value: 85.70632849124807.\u001b[0m\n",
      "\u001b[32m[I 2021-07-30 16:58:28,133]\u001b[0m Trial 95 finished with value: 126.2288883108552 and parameters: {'max_depth': 4, 'colsample_bylevel': 0.9057455523446456, 'subsample': 0.34200558785577284, 'min_child_samples': 19, 'max_bin': 381}. Best is trial 12 with value: 85.70632849124807.\u001b[0m\n",
      "\u001b[32m[I 2021-07-30 16:58:28,577]\u001b[0m Trial 96 finished with value: 126.65703958836413 and parameters: {'max_depth': 6, 'colsample_bylevel': 0.9509311815613719, 'subsample': 0.45271160077419736, 'min_child_samples': 44, 'max_bin': 314}. Best is trial 12 with value: 85.70632849124807.\u001b[0m\n",
      "\u001b[32m[I 2021-07-30 16:58:28,843]\u001b[0m Trial 97 finished with value: 103.99535575408797 and parameters: {'max_depth': 5, 'colsample_bylevel': 0.9214002414077267, 'subsample': 0.21835582719257216, 'min_child_samples': 7, 'max_bin': 461}. Best is trial 12 with value: 85.70632849124807.\u001b[0m\n",
      "\u001b[32m[I 2021-07-30 16:58:29,083]\u001b[0m Trial 98 finished with value: 100.4574329961124 and parameters: {'max_depth': 5, 'colsample_bylevel': 0.9242831157917069, 'subsample': 0.2701447052740205, 'min_child_samples': 9, 'max_bin': 390}. Best is trial 12 with value: 85.70632849124807.\u001b[0m\n",
      "\u001b[32m[I 2021-07-30 16:58:30,227]\u001b[0m Trial 99 finished with value: 126.03863562452675 and parameters: {'max_depth': 8, 'colsample_bylevel': 0.8056804764954582, 'subsample': 0.41016368847440726, 'min_child_samples': 11, 'max_bin': 438}. Best is trial 12 with value: 85.70632849124807.\u001b[0m\n"
     ]
    },
    {
     "name": "stdout",
     "output_type": "stream",
     "text": [
      "Best Score: 85.70632849124807\n",
      "Best trial: {'max_depth': 5, 'colsample_bylevel': 0.8083627889054776, 'subsample': 0.22482679942497147, 'min_child_samples': 36, 'max_bin': 421}\n"
     ]
    }
   ],
   "source": [
    "sampler = TPESampler(seed = 0)\n",
    "study = optuna.create_study(\n",
    "    study_name=\"cat_opt\",\n",
    "    direction=\"minimize\",\n",
    "    sampler=sampler,\n",
    ")\n",
    "study.optimize(objective, n_trials = 100)\n",
    "print(\"Best Score:\", study.best_value)\n",
    "print(\"Best trial:\", study.best_trial.params)"
   ]
  },
  {
   "cell_type": "code",
   "execution_count": 75,
   "metadata": {},
   "outputs": [
    {
     "data": {
      "text/html": [
       "<div>\n",
       "<style scoped>\n",
       "    .dataframe tbody tr th:only-of-type {\n",
       "        vertical-align: middle;\n",
       "    }\n",
       "\n",
       "    .dataframe tbody tr th {\n",
       "        vertical-align: top;\n",
       "    }\n",
       "\n",
       "    .dataframe thead th {\n",
       "        text-align: right;\n",
       "    }\n",
       "</style>\n",
       "<table border=\"1\" class=\"dataframe\">\n",
       "  <thead>\n",
       "    <tr style=\"text-align: right;\">\n",
       "      <th></th>\n",
       "      <th>code</th>\n",
       "      <th>num</th>\n",
       "    </tr>\n",
       "  </thead>\n",
       "  <tbody>\n",
       "    <tr>\n",
       "      <th>0</th>\n",
       "      <td>C1072</td>\n",
       "      <td>797.712009</td>\n",
       "    </tr>\n",
       "    <tr>\n",
       "      <th>1</th>\n",
       "      <td>C1128</td>\n",
       "      <td>1307.710787</td>\n",
       "    </tr>\n",
       "    <tr>\n",
       "      <th>2</th>\n",
       "      <td>C1456</td>\n",
       "      <td>524.475828</td>\n",
       "    </tr>\n",
       "    <tr>\n",
       "      <th>3</th>\n",
       "      <td>C1840</td>\n",
       "      <td>469.174274</td>\n",
       "    </tr>\n",
       "    <tr>\n",
       "      <th>4</th>\n",
       "      <td>C1332</td>\n",
       "      <td>1241.769862</td>\n",
       "    </tr>\n",
       "    <tr>\n",
       "      <th>...</th>\n",
       "      <td>...</td>\n",
       "      <td>...</td>\n",
       "    </tr>\n",
       "    <tr>\n",
       "      <th>145</th>\n",
       "      <td>C2456</td>\n",
       "      <td>292.673642</td>\n",
       "    </tr>\n",
       "    <tr>\n",
       "      <th>146</th>\n",
       "      <td>C1266</td>\n",
       "      <td>558.471504</td>\n",
       "    </tr>\n",
       "    <tr>\n",
       "      <th>147</th>\n",
       "      <td>C2152</td>\n",
       "      <td>181.120384</td>\n",
       "    </tr>\n",
       "    <tr>\n",
       "      <th>148</th>\n",
       "      <td>C1267</td>\n",
       "      <td>301.672292</td>\n",
       "    </tr>\n",
       "    <tr>\n",
       "      <th>149</th>\n",
       "      <td>C2189</td>\n",
       "      <td>215.426538</td>\n",
       "    </tr>\n",
       "  </tbody>\n",
       "</table>\n",
       "<p>150 rows × 2 columns</p>\n",
       "</div>"
      ],
      "text/plain": [
       "      code          num\n",
       "0    C1072   797.712009\n",
       "1    C1128  1307.710787\n",
       "2    C1456   524.475828\n",
       "3    C1840   469.174274\n",
       "4    C1332  1241.769862\n",
       "..     ...          ...\n",
       "145  C2456   292.673642\n",
       "146  C1266   558.471504\n",
       "147  C2152   181.120384\n",
       "148  C1267   301.672292\n",
       "149  C2189   215.426538\n",
       "\n",
       "[150 rows x 2 columns]"
      ]
     },
     "execution_count": 75,
     "metadata": {},
     "output_type": "execute_result"
    }
   ],
   "source": [
    "\n",
    "cat_p = study.best_trial.params\n",
    "cat = CatBoostRegressor(**cat_p)\n",
    "\n",
    "y_cat = pd.cut(target, 10, labels=range(10))\n",
    "skf = StratifiedKFold(5)\n",
    "\n",
    "preds = []\n",
    "for tr_id, val_id in skf.split(train_data, y_cat) : \n",
    "    X_tr = train_data.iloc[tr_id]\n",
    "    y_tr = target.iloc[tr_id]\n",
    "    \n",
    "    cat.fit(X_tr, y_tr, verbose = 0)\n",
    "    \n",
    "    pred = cat.predict(test_data)\n",
    "    preds.append(pred)\n",
    "cat_pred = np.mean(preds, axis = 0)\n",
    "\n",
    "sample['num'] = cat_pred\n",
    "sample\n"
   ]
  },
  {
   "cell_type": "code",
   "execution_count": 76,
   "metadata": {},
   "outputs": [],
   "source": [
    "#sample.to_csv('catboost_0729_변수수정_2번.csv', index=False)"
   ]
  },
  {
   "cell_type": "code",
   "execution_count": null,
   "metadata": {},
   "outputs": [],
   "source": [
    "good = pd.read_csv('submission_catb_baseline_미안합니다여러분_72_87.csv')"
   ]
  },
  {
   "cell_type": "code",
   "execution_count": null,
   "metadata": {},
   "outputs": [],
   "source": [
    "np.mean(abs(good['num']-sample['num']))"
   ]
  }
 ],
 "metadata": {
  "kernelspec": {
   "display_name": "Python 3",
   "language": "python",
   "name": "python3"
  },
  "language_info": {
   "codemirror_mode": {
    "name": "ipython",
    "version": 3
   },
   "file_extension": ".py",
   "mimetype": "text/x-python",
   "name": "python",
   "nbconvert_exporter": "python",
   "pygments_lexer": "ipython3",
   "version": "3.8.5"
  }
 },
 "nbformat": 4,
 "nbformat_minor": 4
}
